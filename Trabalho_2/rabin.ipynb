{
 "cells": [
  {
   "cell_type": "markdown",
   "metadata": {
    "collapsed": false
   },
   "source": [
    "# Sistem Criptográfico de Chave Púbica de Rabin\n",
    "\n",
    "\n",
    "### Grupo:\n",
    " \n",
    " - João Marques, a84684\n",
    " - Luis Bigas,   a76964"
   ]
  },
  {
   "cell_type": "markdown",
   "metadata": {
    "collapsed": false
   },
   "source": [
    "# Gerar Chave:"
   ]
  },
  {
   "cell_type": "code",
   "execution_count": 1,
   "metadata": {
    "collapsed": false,
    "jupyter": {
    }
   },
   "outputs": [
    {
     "name": "stdout",
     "output_type": "stream",
     "text": [
      "p:  207609517445883285549075577486420649279 \n",
      "\n",
      "q:  34383223814054637056137416917838528671\n"
     ]
    }
   ],
   "source": [
    "while 1:\n",
    "    p = random_prime(2^128, 2^127, True)\n",
    "    # p == 3 mod 4 ou p == 5 mod 8\n",
    "    if (mod(p,4) == 3) or (mod(p,8) == 5):\n",
    "        break\n",
    "\n",
    "while 1:\n",
    "    q = random_prime(2^127, 2^126, True)\n",
    "    # q == 3 mod 4 ou q == 5 mod 8\n",
    "    if (mod(q,4) == 3) or (mod(q,8) == 5):\n",
    "        break\n",
    "\n",
    "print(\"p: \", p ,\"\\n\")\n",
    "\n",
    "print(\"q: \", q )"
   ]
  },
  {
   "cell_type": "markdown",
   "metadata": {
    "collapsed": false
   },
   "source": [
    "$n = p \\times q$"
   ]
  },
  {
   "cell_type": "code",
   "execution_count": 2,
   "metadata": {
    "collapsed": false,
    "jupyter": {
    }
   },
   "outputs": [
    {
     "name": "stdout",
     "output_type": "stream",
     "text": [
      "n:  7138284504269685812814890223560267091179245078270971466881304280429876978209 \n",
      "\n"
     ]
    }
   ],
   "source": [
    "n = p * q\n",
    "print(\"n: \", n , \"\\n\")"
   ]
  },
  {
   "cell_type": "markdown",
   "metadata": {
    "collapsed": false
   },
   "source": [
    "Chave Pública: $PubKey = n$\n",
    "\n",
    "Chave Privada: $PrivKey = (p,q)$"
   ]
  },
  {
   "cell_type": "code",
   "execution_count": 3,
   "metadata": {
    "collapsed": false,
    "jupyter": {
    }
   },
   "outputs": [
    {
     "name": "stdout",
     "output_type": "stream",
     "text": [
      "PubKey: 7138284504269685812814890223560267091179245078270971466881304280429876978209 \n",
      "PrivKey: (207609517445883285549075577486420649279, 34383223814054637056137416917838528671)\n"
     ]
    }
   ],
   "source": [
    "PubKey = n\n",
    "PrivKey = (p,q)\n",
    "print(\"PubKey:\",n, \"\\nPrivKey:\", (p,q))"
   ]
  },
  {
   "cell_type": "markdown",
   "metadata": {
    "collapsed": false
   },
   "source": [
    "# Cifração: "
   ]
  },
  {
   "cell_type": "code",
   "execution_count": 4,
   "metadata": {
    "collapsed": false,
    "jupyter": {
    }
   },
   "outputs": [
    {
     "name": "stdout",
     "output_type": "stream",
     "text": [
      "Mensagem:  1234\n"
     ]
    }
   ],
   "source": [
    "msg=1234\n",
    "print(\"Mensagem: \",msg)"
   ]
  },
  {
   "cell_type": "code",
   "execution_count": 5,
   "metadata": {
    "collapsed": false,
    "jupyter": {
    }
   },
   "outputs": [
    {
     "data": {
      "text/plain": [
       "12341234"
      ]
     },
     "execution_count": 5,
     "metadata": {
     },
     "output_type": "execute_result"
    }
   ],
   "source": [
    "msg = int(str(msg) + str(msg))\n",
    "msg"
   ]
  },
  {
   "cell_type": "code",
   "execution_count": 6,
   "metadata": {
    "collapsed": false,
    "jupyter": {
    }
   },
   "outputs": [
    {
     "data": {
      "text/plain": [
       "True"
      ]
     },
     "execution_count": 6,
     "metadata": {
     },
     "output_type": "execute_result"
    }
   ],
   "source": [
    "msg < PubKey and msg > 0"
   ]
  },
  {
   "cell_type": "markdown",
   "metadata": {
    "collapsed": false
   },
   "source": [
    "$cifmsg \\equiv msg^{2} \\mod n$"
   ]
  },
  {
   "cell_type": "code",
   "execution_count": 7,
   "metadata": {
    "collapsed": false,
    "jupyter": {
    }
   },
   "outputs": [
   ],
   "source": [
    "Zn = IntegerModRing(n)"
   ]
  },
  {
   "cell_type": "code",
   "execution_count": 8,
   "metadata": {
    "collapsed": false,
    "jupyter": {
    }
   },
   "outputs": [
    {
     "name": "stdout",
     "output_type": "stream",
     "text": [
      "Mensagem Cifrada:  152306056642756\n"
     ]
    }
   ],
   "source": [
    "cifmsg =  Zn(msg^2)\n",
    "print(\"Mensagem Cifrada: \", cifmsg)"
   ]
  },
  {
   "cell_type": "markdown",
   "metadata": {
    "collapsed": false
   },
   "source": [
    "# Decifração:"
   ]
  },
  {
   "cell_type": "markdown",
   "metadata": {
    "collapsed": false
   },
   "source": [
    "$msg^2 \\equiv cif \\mod n$\n",
    "\n",
    "$\\iff$\n",
    "\n",
    "$msg \\equiv \\sqrt{cif} \\mod n \\vee -msg \\equiv \\sqrt{cif} \\mod n$"
   ]
  },
  {
   "cell_type": "markdown",
   "metadata": {
    "collapsed": false
   },
   "source": [
    "Se $p \\equiv 3 \\mod 4$:\n",
    "\n",
    "$r = c^{\\frac{(p+1)}{4}}\\mod p$\n",
    "\n",
    "Caso $p \\equiv 5 \\mod 8$:\n",
    "\n",
    "* Calcular: $d=c^{\\frac{p-1}{4}} \\mod p$\n",
    "    * Se $d=1$:\n",
    "        * $r=c^{\\frac{p+3}{8}} \\mod p$\n",
    "    * Se $d=p-1$:\n",
    "        * $r = 2 c (4 c^{\\frac{p-5}{8}}) \\mod p$"
   ]
  },
  {
   "cell_type": "code",
   "execution_count": 9,
   "metadata": {
    "collapsed": false,
    "jupyter": {
    }
   },
   "outputs": [
   ],
   "source": [
    "def sqrt_mod(p,c):\n",
    "    if(mod(p,4) == 3):\n",
    "        Zp = IntegerModRing(p)\n",
    "        rp = c^((p+1)/4)\n",
    "        r = Zp(rp)\n",
    "        return r\n",
    "    if(mod(p,8) == 5):\n",
    "        Zp = IntegerModRing(p)\n",
    "        dp = c^((p-1)/4)\n",
    "        d = Zp(dp)\n",
    "        if(d == 1):\n",
    "            rp = c^((p+3)/8)\n",
    "            r = Zp(rp)\n",
    "            return r\n",
    "        if(d == p-1):\n",
    "            rp = 2*c*((4*c)^((p-5)/8))\n",
    "            r = Zp(rp)\n",
    "            return r"
   ]
  },
  {
   "cell_type": "code",
   "execution_count": 10,
   "metadata": {
    "collapsed": false,
    "jupyter": {
    }
   },
   "outputs": [
    {
     "data": {
      "text/plain": [
       "(12341234, 207609517445883285549075577486420649279)"
      ]
     },
     "execution_count": 10,
     "metadata": {
     },
     "output_type": "execute_result"
    }
   ],
   "source": [
    "r = sqrt_mod(p,cifmsg)\n",
    "s = sqrt_mod(q,cifmsg)\n",
    "r,p"
   ]
  },
  {
   "cell_type": "markdown",
   "metadata": {
    "collapsed": false
   },
   "source": [
    "  \\begin{cases}\n",
    "    m \\equiv r \\mod p\\\\\n",
    "    m \\equiv s \\mod q\n",
    "  \\end{cases}"
   ]
  },
  {
   "cell_type": "code",
   "execution_count": 11,
   "metadata": {
    "collapsed": false,
    "jupyter": {
    }
   },
   "outputs": [
    {
     "data": {
      "text/plain": [
       "12341234"
      ]
     },
     "execution_count": 11,
     "metadata": {
     },
     "output_type": "execute_result"
    }
   ],
   "source": [
    "m1 = crt(int(r),int(s),int(p),int(q))\n",
    "m1"
   ]
  },
  {
   "cell_type": "markdown",
   "metadata": {
    "collapsed": false
   },
   "source": [
    "  \\begin{cases}\n",
    "    m \\equiv -r \\mod p\\\\\n",
    "    m \\equiv s \\mod q\n",
    "  \\end{cases}"
   ]
  },
  {
   "cell_type": "code",
   "execution_count": 12,
   "metadata": {
    "collapsed": false,
    "jupyter": {
    }
   },
   "outputs": [
    {
     "data": {
      "text/plain": [
       "6125474802395748492703303010173044555221739825019323676217505696736377292704"
      ]
     },
     "execution_count": 12,
     "metadata": {
     },
     "output_type": "execute_result"
    }
   ],
   "source": [
    "m2 = crt(int(-r),int(s),int(p),int(q))\n",
    "m2"
   ]
  },
  {
   "cell_type": "markdown",
   "metadata": {
    "collapsed": false
   },
   "source": [
    "  \\begin{cases}\n",
    "    m \\equiv r \\mod p\\\\\n",
    "    m \\equiv -s \\mod q\n",
    "  \\end{cases}"
   ]
  },
  {
   "cell_type": "code",
   "execution_count": 13,
   "metadata": {
    "collapsed": false,
    "jupyter": {
    }
   },
   "outputs": [
    {
     "data": {
      "text/plain": [
       "1012809701873937320111587213387222535957505253251647790663798583693499685505"
      ]
     },
     "execution_count": 13,
     "metadata": {
     },
     "output_type": "execute_result"
    }
   ],
   "source": [
    "m3 = crt(int(r),int(-s),int(p),int(q))\n",
    "m3"
   ]
  },
  {
   "cell_type": "markdown",
   "metadata": {
    "collapsed": false
   },
   "source": [
    "  \\begin{cases}\n",
    "    m \\equiv -r \\mod p\\\\\n",
    "    m \\equiv -s \\mod q\n",
    "  \\end{cases}"
   ]
  },
  {
   "cell_type": "code",
   "execution_count": 14,
   "metadata": {
    "collapsed": false,
    "jupyter": {
    }
   },
   "outputs": [
    {
     "data": {
      "text/plain": [
       "7138284504269685812814890223560267091179245078270971466881304280429864636975"
      ]
     },
     "execution_count": 14,
     "metadata": {
     },
     "output_type": "execute_result"
    }
   ],
   "source": [
    "m4 = crt(int(-r),int(-s),int(p),int(q))\n",
    "m4"
   ]
  },
  {
   "cell_type": "code",
   "execution_count": 15,
   "metadata": {
    "collapsed": false,
    "jupyter": {
    }
   },
   "outputs": [
    {
     "name": "stdout",
     "output_type": "stream",
     "text": [
      " m1:  12341234 \n",
      " m2:  6125474802395748492703303010173044555221739825019323676217505696736377292704 \n",
      " m3:  1012809701873937320111587213387222535957505253251647790663798583693499685505 \n",
      " m4:  7138284504269685812814890223560267091179245078270971466881304280429864636975 \n",
      "\n"
     ]
    }
   ],
   "source": [
    "print(\" m1: \", m1, \"\\n\", \"m2: \", m2, \"\\n\", \"m3: \", m3, \"\\n\", \"m4: \", m4, \"\\n\")"
   ]
  },
  {
   "cell_type": "code",
   "execution_count": 0,
   "metadata": {
    "collapsed": false,
    "jupyter": {
     "outputs_hidden": false
    }
   },
   "outputs": [
   ],
   "source": [
   ]
  },
  {
   "cell_type": "markdown",
   "metadata": {
    "collapsed": false
   },
   "source": [
    "## Criação de Chaves"
   ]
  },
  {
   "cell_type": "code",
   "execution_count": 16,
   "metadata": {
    "collapsed": false,
    "jupyter": {
    }
   },
   "outputs": [
   ],
   "source": [
    "def gen_rand_keys(nbits):\n",
    "    hbound = nbits\n",
    "    lbound = nbits-1\n",
    "    while 1:\n",
    "        p = random_prime(2^hbound, 2^lbound, True)\n",
    "        if (mod(p,4)==3) or (mod(p,8)==5):\n",
    "            break\n",
    "    while 1:\n",
    "        q = random_prime(2^lbound, 2^(lbound-1), True)\n",
    "        if (mod(q,4) == 3) or (mod(q,8) == 5):\n",
    "            break\n",
    "    PubKey=p*q\n",
    "    PrivKey=(p,q)\n",
    "\n",
    "    return PubKey,PrivKey"
   ]
  },
  {
   "cell_type": "markdown",
   "metadata": {
    "collapsed": false
   },
   "source": [
    "# Encriptação de Rabin"
   ]
  },
  {
   "cell_type": "code",
   "execution_count": 17,
   "metadata": {
    "collapsed": false
   },
   "outputs": [
   ],
   "source": [
    "def rabin_encrypt(m, n):\n",
    "    m = int(str(m) + str(m))\n",
    "\n",
    "    if (m < n-1) and (m > 0):\n",
    "        c = mod(m^2,n)\n",
    "        return c\n",
    "    else:\n",
    "        print(\"Mensagem não válida\")"
   ]
  },
  {
   "cell_type": "markdown",
   "metadata": {
    "collapsed": false
   },
   "source": [
    "# Decifração"
   ]
  },
  {
   "cell_type": "code",
   "execution_count": 18,
   "metadata": {
    "collapsed": false
   },
   "outputs": [
   ],
   "source": [
    "def sqrt_mod(p,c):\n",
    "    if(mod(p,4) == 3):\n",
    "        Zp = IntegerModRing(p)\n",
    "        rp = c^((p+1)/4)\n",
    "        r = Zp(rp)\n",
    "        return r\n",
    "    if(mod(p,8) == 5):\n",
    "        Zp = IntegerModRing(p)\n",
    "        dp = c^((p-1)/4)\n",
    "        d = Zp(dp)\n",
    "        if(d == 1):\n",
    "            rp = c^((p+3)/8)\n",
    "            r = Zp(rp)\n",
    "\n",
    "\n",
    "            return r\n",
    "        if(d == p-1):\n",
    "            rp = 2*c*((4*c)^((p-5)/8))\n",
    "            r = Zp(rp)\n",
    "            return r"
   ]
  },
  {
   "cell_type": "code",
   "execution_count": 19,
   "metadata": {
    "collapsed": false
   },
   "outputs": [
   ],
   "source": [
    "def crt_sqrt(r,s,p,q):\n",
    "    m1 = crt(int(r), int(s), int(p), int(q))\n",
    "    m2 = crt(int(-r), int(s), int(p),int(q))\n",
    "    m3 = crt(int(r), int(-s), int(p), int(q))\n",
    "    m4 = crt(int(-r),int(-s),int(p),int(q))\n",
    "    return m1, m2, m3, m4"
   ]
  },
  {
   "cell_type": "code",
   "execution_count": 20,
   "metadata": {
    "collapsed": false
   },
   "outputs": [
   ],
   "source": [
    "def decrypt(c, PrivKey):\n",
    "    p=PrivKey[0]\n",
    "    q=PrivKey[1]\n",
    "    r = sqrt_mod(p,c)\n",
    "    s = sqrt_mod(q,c)\n",
    "    return get_message(crt_sqrt(r,s,p,q))"
   ]
  },
  {
   "cell_type": "code",
   "execution_count": 21,
   "metadata": {
    "collapsed": false
   },
   "outputs": [
   ],
   "source": [
    "def get_message(l):\n",
    "    for i in l:\n",
    "        num = str(i)\n",
    "        comp = len(num)\n",
    "        if(comp % 2 != 0):\n",
    "            continue\n",
    "        for j in range(comp/2):\n",
    "            k = j+comp/2\n",
    "            if(num[j] != num[k]):\n",
    "                continue\n",
    "            if(j == comp/2 - 1):\n",
    "                return int(num[:(comp/2)])"
   ]
  },
  {
   "cell_type": "code",
   "execution_count": 22,
   "metadata": {
    "collapsed": false,
    "scrolled": true
   },
   "outputs": [
    {
     "name": "stdout",
     "output_type": "stream",
     "text": [
      "PubKey:  13904679250094574420735896503588575876311757506786425583798812996730023110774974528985572266980941881569020491007168552483222886355336661070431570742935528987410734597988488457308474884561194313096820929982114677725563366652691640914558543500793849393754480820890404707990103104563474026149641903002519960799294763592247836137120207652477254101098228661376804204810865836911397209975926345205882000600354615707523015322889650148633720150666439269556129924307610247635503745303998389788646172509647348065917514108017509384706731210640595982621447433817363944488526197943079392467362129112989595647448987020112923447387 \n",
      "PrivKey:  (175835106337278340466772659285821182814971583791542703662296538061085819274781415479664794433316328245245227736907602844278930621087744317202499375322644753148230507769148232897418356834638583001959815421900547318104777036769994521187076888910486811025286354570533867558730288201035293905501423302599051815893, 79077947172979755423323531581961636680987102096920146667006923377559798174257939287088590043087683697182678951003210531655562612220302879733930033050356110758300438821670697525369385635542053476174803159332215186686658435330932044281583790465256126648852158638613352250998183408644260102152055262273626542959)\n"
     ]
    }
   ],
   "source": [
    "keys = gen_rand_keys(1024)\n",
    "PubKey = keys[0]\n",
    "PrivKey = keys[1]\n",
    "print(\"PubKey: \", PubKey, \"\\nPrivKey: \", PrivKey)"
   ]
  },
  {
   "cell_type": "code",
   "execution_count": 23,
   "metadata": {
    "collapsed": false,
    "scrolled": true
   },
   "outputs": [
    {
     "name": "stdout",
     "output_type": "stream",
     "text": [
      "c:  15241578780673678515622620750190521 \n",
      "\n"
     ]
    }
   ],
   "source": [
    "c = rabin_encrypt(123456789, PubKey)\n",
    "print(\"c: \",c,\"\\n\")"
   ]
  },
  {
   "cell_type": "code",
   "execution_count": 24,
   "metadata": {
    "collapsed": false
   },
   "outputs": [
    {
     "name": "stdout",
     "output_type": "stream",
     "text": [
      "Mensagem:  123456789\n"
     ]
    }
   ],
   "source": [
    "m = decrypt(c, PrivKey)\n",
    "print(\"Mensagem: \", m)"
   ]
  },
  {
   "cell_type": "markdown",
   "metadata": {
    "collapsed": false
   },
   "source": [
    "# Segurança"
   ]
  },
  {
   "cell_type": "markdown",
   "metadata": {
    "collapsed": false
   },
   "source": [
    "## Factorização"
   ]
  },
  {
   "cell_type": "markdown",
   "metadata": {
    "collapsed": false
   },
   "source": [
    "PubKey = n"
   ]
  },
  {
   "cell_type": "markdown",
   "metadata": {
    "collapsed": false
   },
   "source": [
    "$m^2 \\equiv c \\mod n$"
   ]
  },
  {
   "cell_type": "markdown",
   "metadata": {
    "collapsed": false
   },
   "source": [
    "## Escolha de Cifra"
   ]
  },
  {
   "cell_type": "markdown",
   "metadata": {
    "collapsed": false
   },
   "source": [
    "$m \\in \\mathbb{Z}^{*}_n$\n",
    "\n",
    "$\\iff$\n",
    "\n",
    "$(m,n) = 1$"
   ]
  },
  {
   "cell_type": "markdown",
   "metadata": {
    "collapsed": false
   },
   "source": [
    "$c=m^2 \\mod n$"
   ]
  },
  {
   "cell_type": "markdown",
   "metadata": {
    "collapsed": false
   },
   "source": [
    "Se: $y \\not\\equiv \\pm m \\mod n$\n",
    "\n",
    "$(m-y,n) \\in \\text{factor(n)}$\n",
    "\n",
    "Se: $y \\not\\equiv \\pm m \\mod n$"
   ]
  },
  {
   "cell_type": "code",
   "execution_count": 0,
   "metadata": {
    "collapsed": false
   },
   "outputs": [
   ],
   "source": [
   ]
  }
 ],
 "metadata": {
  "kernelspec": {
   "display_name": "SageMath 9.2",
   "language": "sagemath",
   "metadata": {
    "cocalc": {
     "description": "Open-source mathematical software system",
     "priority": 10,
     "url": "https://www.sagemath.org/"
    }
   },
   "name": "sage-9.2",
   "resource_dir": "/ext/jupyter/kernels/sage-9.2"
  },
  "language_info": {
   "codemirror_mode": {
    "name": "ipython",
    "version": 3
   },
   "file_extension": ".py",
   "mimetype": "text/x-python",
   "name": "python",
   "nbconvert_exporter": "python",
   "pygments_lexer": "ipython3",
   "version": "3.9.3"
  },
  "orig_nbformat": 2
 },
 "nbformat": 4,
 "nbformat_minor": 4
}