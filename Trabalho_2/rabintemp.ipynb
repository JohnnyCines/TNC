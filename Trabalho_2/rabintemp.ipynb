{
 "cells": [
  {
   "cell_type": "markdown",
   "metadata": {
    "collapsed": false
   },
   "source": [
    "# Sistem Criptográfico de Chave Púbica de Rabin\n",
    "\n",
    "\n",
    "Grupo:\n",
    " \n",
    " - João Marques, a84684\n",
    " - Luis Bigas,   a76964"
   ]
  },
  {
   "cell_type": "markdown",
   "metadata": {
    "collapsed": false
   },
   "source": [
    "# Gerar Chave:"
   ]
  },
  {
   "cell_type": "code",
   "execution_count": 251,
   "metadata": {
    "collapsed": false
   },
   "outputs": [
    {
     "name": "stdout",
     "output_type": "stream",
     "text": [
      "p:  49628785882538264638168610170452976967 \n",
      "\n",
      "q:  161945963473180122575845012275664238951\n"
     ]
    }
   ],
   "source": [
    "while 1:\n",
    "    p = random_prime(2^128, 2^127, True)\n",
    "    if (mod(p,4) == 3):\n",
    "        break\n",
    "\n",
    "while 1:\n",
    "    q = random_prime(2^127, 2^126, True)\n",
    "    if (mod(q,4) == 3):\n",
    "        break\n",
    "\n",
    "print(\"p: \", p ,\"\\n\")\n",
    "\n",
    "print(\"q: \", q )"
   ]
  },
  {
   "cell_type": "markdown",
   "metadata": {
    "collapsed": false
   },
   "source": [
    "$n = p \\times q$"
   ]
  },
  {
   "cell_type": "code",
   "execution_count": 252,
   "metadata": {
    "collapsed": false
   },
   "outputs": [
    {
     "name": "stdout",
     "output_type": "stream",
     "text": [
      "n:  8037181545751819138366884677339069399560437240753051850053156886540387241617 \n",
      "\n"
     ]
    }
   ],
   "source": [
    "n = p * q\n",
    "print(\"n: \", n , \"\\n\")"
   ]
  },
  {
   "cell_type": "markdown",
   "metadata": {
    "collapsed": false
   },
   "source": [
    "Chave Pública: $PubKey = n$\n",
    "\n",
    "Chave Privada: $PrivKey = (p,q)$"
   ]
  },
  {
   "cell_type": "code",
   "execution_count": 253,
   "metadata": {
    "collapsed": false
   },
   "outputs": [
    {
     "name": "stdout",
     "output_type": "stream",
     "text": [
      "PubKey: 8037181545751819138366884677339069399560437240753051850053156886540387241617 \n",
      "PrivKey: (49628785882538264638168610170452976967, 161945963473180122575845012275664238951)\n"
     ]
    }
   ],
   "source": [
    "PubKey = n\n",
    "PrivKey = (p,q)\n",
    "print(\"PubKey:\",n, \"\\nPrivKey:\", (p,q))"
   ]
  },
  {
   "cell_type": "markdown",
   "metadata": {
    "collapsed": false
   },
   "source": [
    "# Cifração: "
   ]
  },
  {
   "cell_type": "code",
   "execution_count": 254,
   "metadata": {
    "collapsed": false
   },
   "outputs": [
   ],
   "source": [
    "Zn = IntegerModRing(n)"
   ]
  },
  {
   "cell_type": "code",
   "execution_count": 255,
   "metadata": {
    "collapsed": false
   },
   "outputs": [
    {
     "name": "stdout",
     "output_type": "stream",
     "text": [
      "Mensagem:  1234\n"
     ]
    }
   ],
   "source": [
    "msg=1234\n",
    "print(\"Mensagem: \",msg)"
   ]
  },
  {
   "cell_type": "code",
   "execution_count": 256,
   "metadata": {
    "collapsed": false
   },
   "outputs": [
    {
     "data": {
      "text/plain": [
       "12341234"
      ]
     },
     "execution_count": 256,
     "metadata": {
     },
     "output_type": "execute_result"
    }
   ],
   "source": [
    "msg = int(str(msg) + str(msg))\n",
    "msg"
   ]
  },
  {
   "cell_type": "code",
   "execution_count": 257,
   "metadata": {
    "collapsed": false
   },
   "outputs": [
    {
     "data": {
      "text/plain": [
       "True"
      ]
     },
     "execution_count": 257,
     "metadata": {
     },
     "output_type": "execute_result"
    }
   ],
   "source": [
    "msg < PubKey and msg > 0"
   ]
  },
  {
   "cell_type": "markdown",
   "metadata": {
    "collapsed": false
   },
   "source": [
    "$cifmsg \\equiv msg^{2} \\mod n$"
   ]
  },
  {
   "cell_type": "code",
   "execution_count": 258,
   "metadata": {
    "collapsed": false
   },
   "outputs": [
    {
     "name": "stdout",
     "output_type": "stream",
     "text": [
      "Mensagem Cifrada:  152306056642756\n"
     ]
    }
   ],
   "source": [
    "cifmsg =  Zn(msg^2)\n",
    "print(\"Mensagem Cifrada: \", cifmsg)"
   ]
  },
  {
   "cell_type": "markdown",
   "metadata": {
    "collapsed": false
   },
   "source": [
    "# Decifração:"
   ]
  },
  {
   "cell_type": "markdown",
   "metadata": {
    "collapsed": false
   },
   "source": [
    "$msg^2 \\equiv cif \\mod n$\n",
    "\n",
    "$\\iff$\n",
    "\n",
    "$msg \\equiv \\sqrt{cif} \\mod n$"
   ]
  },
  {
   "cell_type": "markdown",
   "metadata": {
    "collapsed": false
   },
   "source": [
    "Se $3 \\equiv 4 \\mod p$:\n",
    "\n",
    "$r = c^{(p+1)/4}\\mod p$\n",
    "\n",
    "Caso $5 \\equiv 8 \\mod p$:\n",
    "\n",
    "* Calcular: $d=c^{\\frac{p-1}{4}}$\n",
    "    * Se $d=1$:\n",
    "        * $r=c^{\\frac{p+3}{8}}$\n",
    "    * Se $d=p-1$:\n",
    "        * $r = 2 \\times c \\times (4 \\times c^{\\frac{p-5}{8}})$"
   ]
  },
  {
   "cell_type": "code",
   "execution_count": 259,
   "metadata": {
    "collapsed": false
   },
   "outputs": [
   ],
   "source": [
    "def sqrt_mod(p):\n",
    "    if(mod(p,4) == 3):\n",
    "        Zp = IntegerModRing(p)\n",
    "        rp = cifmsg^((p+1)/4)\n",
    "        r = Zp(rp)\n",
    "        return r\n",
    "    if(mod(p,8) == 5):\n",
    "        Zp = IntegerModRing(p)\n",
    "        dp = c^((p-1)/4)\n",
    "        d = Zp(dp)\n",
    "        if(d == 1):\n",
    "            rp = c^((p+3)/8)\n",
    "            r = Zp(rp)\n",
    "            return r\n",
    "        if(d == p-1):\n",
    "            rp = 2*cifmsg*((4*c)^((p-5)/8))\n",
    "            r = Zp(rp)\n",
    "            return r"
   ]
  },
  {
   "cell_type": "code",
   "execution_count": 260,
   "metadata": {
    "collapsed": false
   },
   "outputs": [
    {
     "data": {
      "text/plain": [
       "(12341234, 49628785882538264638168610170452976967)"
      ]
     },
     "execution_count": 260,
     "metadata": {
     },
     "output_type": "execute_result"
    }
   ],
   "source": [
    "r = sqrt_mod(p)\n",
    "s = sqrt_mod(q)\n",
    "r,p"
   ]
  },
  {
   "cell_type": "markdown",
   "metadata": {
    "collapsed": false
   },
   "source": [
    "  \\begin{cases}\n",
    "    r \\equiv \\mod p\\\\\n",
    "    s \\equiv \\mod q\n",
    "  \\end{cases}"
   ]
  },
  {
   "cell_type": "code",
   "execution_count": 261,
   "metadata": {
    "collapsed": false
   },
   "outputs": [
    {
     "data": {
      "text/plain": [
       "6777366501019829794992506507936936123039839684487309084607092247418720682901"
      ]
     },
     "execution_count": 261,
     "metadata": {
     },
     "output_type": "execute_result"
    }
   ],
   "source": [
    "m1 = crt(int(r),int(s),int(p),int(q))\n",
    "m1"
   ]
  },
  {
   "cell_type": "markdown",
   "metadata": {
    "collapsed": false
   },
   "source": [
    "  \\begin{cases}\n",
    "    -r \\equiv \\mod p\\\\\n",
    "    s \\equiv \\mod q\n",
    "  \\end{cases}"
   ]
  },
  {
   "cell_type": "code",
   "execution_count": 262,
   "metadata": {
    "collapsed": false
   },
   "outputs": [
    {
     "data": {
      "text/plain": [
       "8037181545751819138366884677339069399560437240753051850053156886540374900383"
      ]
     },
     "execution_count": 262,
     "metadata": {
     },
     "output_type": "execute_result"
    }
   ],
   "source": [
    "m2 = crt(int(-r),int(s),int(p),int(q))\n",
    "m2"
   ]
  },
  {
   "cell_type": "markdown",
   "metadata": {
    "collapsed": false
   },
   "source": [
    "  \\begin{cases}\n",
    "    r \\equiv \\mod p\\\\\n",
    "    -s \\equiv \\mod q\n",
    "  \\end{cases}"
   ]
  },
  {
   "cell_type": "code",
   "execution_count": 263,
   "metadata": {
    "collapsed": false
   },
   "outputs": [
    {
     "data": {
      "text/plain": [
       "12341234"
      ]
     },
     "execution_count": 263,
     "metadata": {
     },
     "output_type": "execute_result"
    }
   ],
   "source": [
    "m3 = crt(int(r),int(-s),int(p),int(q))\n",
    "m3"
   ]
  },
  {
   "cell_type": "markdown",
   "metadata": {
    "collapsed": false
   },
   "source": [
    "  \\begin{cases}\n",
    "    -r \\equiv \\mod p\\\\\n",
    "    -s \\equiv \\mod q\n",
    "  \\end{cases}"
   ]
  },
  {
   "cell_type": "code",
   "execution_count": 264,
   "metadata": {
    "collapsed": false
   },
   "outputs": [
    {
     "data": {
      "text/plain": [
       "1259815044731989343374378169402133276520597556265742765446064639121666558716"
      ]
     },
     "execution_count": 264,
     "metadata": {
     },
     "output_type": "execute_result"
    }
   ],
   "source": [
    "m4 = crt(int(-r),int(-s),int(p),int(q))\n",
    "m4"
   ]
  },
  {
   "cell_type": "code",
   "execution_count": 266,
   "metadata": {
    "collapsed": false
   },
   "outputs": [
    {
     "name": "stdout",
     "output_type": "stream",
     "text": [
      " m1:  6777366501019829794992506507936936123039839684487309084607092247418720682901 \n",
      " m2:  8037181545751819138366884677339069399560437240753051850053156886540374900383 \n",
      " m3:  12341234 \n",
      " m4:  1259815044731989343374378169402133276520597556265742765446064639121666558716 \n",
      "\n"
     ]
    }
   ],
   "source": [
    "print(\" m1: \", m1, \"\\n\", \"m2: \", m2, \"\\n\", \"m3: \", m3, \"\\n\", \"m4: \", m4, \"\\n\")"
   ]
  },
  {
   "cell_type": "code",
   "execution_count": 0,
   "metadata": {
    "collapsed": false
   },
   "outputs": [
   ],
   "source": [
   ]
  },
  {
   "cell_type": "markdown",
   "metadata": {
    "collapsed": false
   },
   "source": [
    "## Criação de Chaves"
   ]
  },
  {
   "cell_type": "code",
   "execution_count": 198,
   "metadata": {
    "collapsed": false
   },
   "outputs": [
   ],
   "source": [
    "def gen_rand_mod_prime(hbound,lbound):\n",
    "    while 1:\n",
    "        p = random_prime(hbound, lbound, True)\n",
    "        if (mod(p,4) == 3) or (mod(p,8) == 5):\n",
    "            return p"
   ]
  },
  {
   "cell_type": "code",
   "execution_count": 282,
   "metadata": {
    "collapsed": false
   },
   "outputs": [
    {
     "name": "stdout",
     "output_type": "stream",
     "text": [
      "p:  71210206885287370909920110392138300326927089700280829280264204733578289037992527654519832636999970303355826211700247570501630384037262029977727881708509178297109362689069960314171160255903060229042185485686905288469230893359361741168092329637762836142220285405664421972792922954093674255063724577989521460131 \n",
      "q:  10632009026097644878253680475626522869913137334072327708569899706782066515815025563258011078164201764493298074236026770036629760596818981510523830610256784737388367356957387540267499531418807593520448044472527543828943711758971621449414982953184035416748969989007218032174939953989247300802937340882565080107 \n",
      "\n"
     ]
    }
   ],
   "source": [
    "p = gen_rand_mod_prime(2^1024,2^1023)\n",
    "q = gen_rand_mod_prime(2^1023,2^1022)\n",
    "print(\"p: \",p,\"\\nq: \", q, \"\\n\")"
   ]
  },
  {
   "cell_type": "code",
   "execution_count": 283,
   "metadata": {
    "collapsed": false
   },
   "outputs": [
    {
     "name": "stdout",
     "output_type": "stream",
     "text": [
      "PrivKey:  (71210206885287370909920110392138300326927089700280829280264204733578289037992527654519832636999970303355826211700247570501630384037262029977727881708509178297109362689069960314171160255903060229042185485686905288469230893359361741168092329637762836142220285405664421972792922954093674255063724577989521460131, 10632009026097644878253680475626522869913137334072327708569899706782066515815025563258011078164201764493298074236026770036629760596818981510523830610256784737388367356957387540267499531418807593520448044472527543828943711758971621449414982953184035416748969989007218032174939953989247300802937340882565080107) \n",
      "\n",
      "PubKey:  757107562354655986099813731107693500633982656834098160634874743143610191970514449225011893920148337868160486792975579567264838155888941278137522859093175944574612135943392881562793356461556788755919666949761866901936235260000665105597456254714928831552719699988293663330092009160895372282907085972943002032302386137564505826498041307751666768034377659862762244243958384497448471906649558119404276831070679480669422693117489888683578909528626463710742356606786364942921637431006569766004325462261569553814010079338584236844734929229715305151724628404617624234568561265398806329293292215457937933607968007111621714017\n"
     ]
    }
   ],
   "source": [
    "n = p*q\n",
    "PrivKey = (p,q)\n",
    "PubKey = n\n",
    "print(\"PrivKey: \", PrivKey, \"\\n\")\n",
    "print(\"PubKey: \", PubKey)"
   ]
  },
  {
   "cell_type": "markdown",
   "metadata": {
    "collapsed": false
   },
   "source": [
    "# Encriptação de Rabin"
   ]
  },
  {
   "cell_type": "code",
   "execution_count": 284,
   "metadata": {
    "collapsed": false
   },
   "outputs": [
   ],
   "source": [
    "def rabin_encrypt(m, n):\n",
    "    m = int(str(m) + str(m))\n",
    "\n",
    "    if (m < n-1) and (m>=0):\n",
    "        c = mod(m^2,n)\n",
    "        return c\n",
    "    else:\n",
    "        print(\"Mensagem não válida\")"
   ]
  },
  {
   "cell_type": "code",
   "execution_count": 285,
   "metadata": {
    "collapsed": false
   },
   "outputs": [
    {
     "name": "stdout",
     "output_type": "stream",
     "text": [
      "c:  15241578780673678515622620750190521 \n",
      "\n"
     ]
    }
   ],
   "source": [
    "c = rabin_encrypt(123456789, PubKey)\n",
    "print(\"c: \",c,\"\\n\")"
   ]
  },
  {
   "cell_type": "markdown",
   "metadata": {
    "collapsed": false
   },
   "source": [
    "# Decifração"
   ]
  },
  {
   "cell_type": "code",
   "execution_count": 275,
   "metadata": {
    "collapsed": false
   },
   "outputs": [
   ],
   "source": [
    "def sqrt_mod(a,p):\n",
    "    if(mod(p,4) == 3):\n",
    "        Zp = IntegerModRing(p)\n",
    "        rp = c^((p+1)/4)\n",
    "        r = Zp(rp)\n",
    "        return r\n",
    "    if(mod(p,8) == 5):\n",
    "        Zp = IntegerModRing(p)\n",
    "        dp = c^((p-1)/4)\n",
    "        d = Zp(dp)\n",
    "        if(d == 1):\n",
    "            rp = c^((p+3)/8)\n",
    "            r = Zp(rp)\n",
    "            return r\n",
    "        if(d == p-1):\n",
    "            rp = 2*c*((4*c)^((p-5)/8))\n",
    "            r = Zp(rp)\n",
    "            return r"
   ]
  },
  {
   "cell_type": "code",
   "execution_count": 276,
   "metadata": {
    "collapsed": false
   },
   "outputs": [
   ],
   "source": [
    "def crt_sqrt(r,s,p,q):\n",
    "    m1 = crt(int(r), int(s), int(p), int(q))\n",
    "    m2 = crt(int(-r), int(s), int(p),int(q))\n",
    "    m3 = crt(int(r), int(-s), int(p), int(q))\n",
    "    m4 = crt(int(-r),int(-s),int(p),int(q))\n",
    "    return m1, m2, m3, m4"
   ]
  },
  {
   "cell_type": "code",
   "execution_count": 277,
   "metadata": {
    "collapsed": false
   },
   "outputs": [
   ],
   "source": [
    "def get_message(l):\n",
    "    for i in l:\n",
    "        num = str(i)\n",
    "        comp = len(num)\n",
    "        if(comp % 2 != 0):\n",
    "            continue\n",
    "        for j in range(comp/2):\n",
    "            k = j+comp/2\n",
    "            if(num[j] != num[k]):\n",
    "                continue\n",
    "            if(j == comp/2 - 1):\n",
    "                return int(num[:(comp/2)])"
   ]
  },
  {
   "cell_type": "code",
   "execution_count": 278,
   "metadata": {
    "collapsed": false
   },
   "outputs": [
   ],
   "source": [
    "def decrypt(c, PrivKey):\n",
    "    p=PrivKey[0]\n",
    "    q=PrivKey[1]\n",
    "    r = sqrt_mod(c,p)\n",
    "    s = sqrt_mod(c,q)\n",
    "    return get_message(crt_sqrt(r,s,p,q))"
   ]
  },
  {
   "cell_type": "code",
   "execution_count": 177,
   "metadata": {
    "collapsed": false
   },
   "outputs": [
    {
     "name": "stdout",
     "output_type": "stream",
     "text": [
      "Mensagem:  123456789\n"
     ]
    }
   ],
   "source": [
    "m = decrypt(c, PrivKey)\n",
    "print(\"Mensagem: \", m)"
   ]
  },
  {
   "cell_type": "code",
   "execution_count": 279,
   "metadata": {
    "collapsed": false
   },
   "outputs": [
    {
     "name": "stdout",
     "output_type": "stream",
     "text": [
      "(11, 4, 31, 24)\n"
     ]
    }
   ],
   "source": [
    "p=PrivKey[0]\n",
    "    q=PrivKey[1]\n",
    "    r = sqrt_mod(c,p)\n",
    "    s = sqrt_mod(c,q)\n",
    "    crt_sqrt(r,s,p,q)"
   ]
  },
  {
   "cell_type": "code",
   "execution_count": 0,
   "metadata": {
    "collapsed": false
   },
   "outputs": [
   ],
   "source": [
   ]
  }
 ],
 "metadata": {
  "kernelspec": {
   "display_name": "SageMath 9.2",
   "language": "sagemath",
   "metadata": {
    "cocalc": {
     "description": "Open-source mathematical software system",
     "priority": 10,
     "url": "https://www.sagemath.org/"
    }
   },
   "name": "sage-9.2",
   "resource_dir": "/ext/jupyter/kernels/sage-9.2"
  },
  "language_info": {
   "codemirror_mode": {
    "name": "ipython",
    "version": 3
   },
   "file_extension": ".py",
   "mimetype": "text/x-python",
   "name": "python",
   "nbconvert_exporter": "python",
   "pygments_lexer": "ipython3",
   "version": "3.8.5"
  },
  "orig_nbformat": 2
 },
 "nbformat": 4,
 "nbformat_minor": 4
}