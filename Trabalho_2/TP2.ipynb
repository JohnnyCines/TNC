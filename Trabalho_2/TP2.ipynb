{
 "cells": [
  {
   "cell_type": "markdown",
   "metadata": {
    "collapsed": false
   },
   "source": [
    "# Chave Publica"
   ]
  },
  {
   "cell_type": "code",
   "execution_count": 1,
   "metadata": {
    "collapsed": false
   },
   "outputs": [
    {
     "data": {
      "text/plain": [
       "(74728803602391660617199553345688075356198073025519283391840876917872925657117,\n",
       " 421909386782619366023565532831296230164880127096966348401635772186682734150197)"
      ]
     },
     "execution_count": 1,
     "metadata": {
     },
     "output_type": "execute_result"
    }
   ],
   "source": [
    "p = random_prime(2^256, 2^254, True)\n",
    "q = random_prime(2^258, 2^257, True)\n",
    "(p,q)"
   ]
  },
  {
   "cell_type": "code",
   "execution_count": 2,
   "metadata": {
    "collapsed": false
   },
   "outputs": [
    {
     "data": {
      "text/plain": [
       "31528783702883862561526346182209033430148497568645518236496150941921876362030560021935362772322031050241959211139905612495576796501129006007107932800002049"
      ]
     },
     "execution_count": 2,
     "metadata": {
     },
     "output_type": "execute_result"
    }
   ],
   "source": [
    "n = p*q\n",
    "n"
   ]
  },
  {
   "cell_type": "code",
   "execution_count": 3,
   "metadata": {
    "collapsed": false
   },
   "outputs": [
    {
     "name": "stdout",
     "output_type": "stream",
     "text": [
      "PubKey: 31528783702883862561526346182209033430148497568645518236496150941921876362030560021935362772322031050241959211139905612495576796501129006007107932800002049 \n",
      "PrivKey: (74728803602391660617199553345688075356198073025519283391840876917872925657117, 421909386782619366023565532831296230164880127096966348401635772186682734150197)\n"
     ]
    }
   ],
   "source": [
    "PubKey = n\n",
    "PrivKey = (p,q)\n",
    "print(\"PubKey:\", n , \"\\nPrivKey:\", (p,q))"
   ]
  },
  {
   "cell_type": "markdown",
   "metadata": {
    "collapsed": false
   },
   "source": [
    "# Cifracao com chave publica"
   ]
  },
  {
   "cell_type": "code",
   "execution_count": 4,
   "metadata": {
    "collapsed": false
   },
   "outputs": [
   ],
   "source": [
    "Zn = IntegerModRing(n)"
   ]
  },
  {
   "cell_type": "code",
   "execution_count": 5,
   "metadata": {
    "collapsed": false
   },
   "outputs": [
   ],
   "source": [
    "msg = 1234"
   ]
  },
  {
   "cell_type": "code",
   "execution_count": 6,
   "metadata": {
    "collapsed": false
   },
   "outputs": [
    {
     "data": {
      "text/plain": [
       "1522756"
      ]
     },
     "execution_count": 6,
     "metadata": {
     },
     "output_type": "execute_result"
    }
   ],
   "source": [
    "cif_msg = Zn(msg^2)\n",
    "cif_msg"
   ]
  },
  {
   "cell_type": "markdown",
   "metadata": {
    "collapsed": false
   },
   "source": [
    "# Decifracao"
   ]
  },
  {
   "cell_type": "code",
   "execution_count": 7,
   "metadata": {
    "collapsed": false
   },
   "outputs": [
    {
     "data": {
      "text/plain": [
       "(-124359076331859664001631669642845596010225391709039007226860334028492860983821,\n",
       " 22026542386852648309427113355734668886247858325226554383856126270784120392914)"
      ]
     },
     "execution_count": 7,
     "metadata": {
     },
     "output_type": "execute_result"
    }
   ],
   "source": [
    "mul = xgcd(p, q)\n",
    "a = mul[1]\n",
    "b = mul[2]\n",
    "(a,b)"
   ]
  },
  {
   "cell_type": "code",
   "execution_count": 8,
   "metadata": {
    "collapsed": false
   },
   "outputs": [
    {
     "data": {
      "text/plain": [
       "1"
      ]
     },
     "execution_count": 8,
     "metadata": {
     },
     "output_type": "execute_result"
    }
   ],
   "source": [
    "p*a + q*b"
   ]
  },
  {
   "cell_type": "code",
   "execution_count": 9,
   "metadata": {
    "collapsed": false
   },
   "outputs": [
   ],
   "source": [
    "Zp = IntegerModRing(p)\n",
    "Zq = IntegerModRing(q)"
   ]
  },
  {
   "cell_type": "code",
   "execution_count": 10,
   "metadata": {
    "collapsed": false
   },
   "outputs": [
    {
     "data": {
      "text/plain": [
       "(74728803602391660617199553345688075356198073025519283391840876917872925657116,\n",
       " 421909386782619366023565532831296230164880127096966348401635772186682734150196,\n",
       " 31528783702883862561526346182209033430148497568645518236496150941921876362030560021935362772322031050241959211139905612495576796501129006007107932800002048,\n",
       " 31528783702883862561526346182209033430148497568645518236496150941921876362030560021935362772322031050241959211139905612495576796501129006007107932800002048)"
      ]
     },
     "execution_count": 10,
     "metadata": {
     },
     "output_type": "execute_result"
    }
   ],
   "source": [
    "r = int(power_mod(cif_msg, int((p+1)/4), p))\n",
    "s = int(power_mod(cif_msg, int((q+1)/4), q))\n",
    "x = Zn(int(a*p*s) + int(b*q*r))\n",
    "y = Zn(int(a*p*s) + int(b*q*r))\n",
    "(r,s,x,y)"
   ]
  },
  {
   "cell_type": "code",
   "execution_count": 11,
   "metadata": {
    "collapsed": false
   },
   "outputs": [
    {
     "data": {
      "text/plain": [
       "31528783702883862561526346182209033430148497568645518236496150941921876362030560021935362772322031050241959211139905612495576796501129006007107932800002048"
      ]
     },
     "execution_count": 11,
     "metadata": {
     },
     "output_type": "execute_result"
    }
   ],
   "source": [
    "int(x)"
   ]
  },
  {
   "cell_type": "code",
   "execution_count": 12,
   "metadata": {
    "collapsed": false
   },
   "outputs": [
    {
     "data": {
      "text/plain": [
       "1"
      ]
     },
     "execution_count": 12,
     "metadata": {
     },
     "output_type": "execute_result"
    }
   ],
   "source": [
    "Zn(-x)"
   ]
  },
  {
   "cell_type": "code",
   "execution_count": 13,
   "metadata": {
    "collapsed": false
   },
   "outputs": [
    {
     "data": {
      "text/plain": [
       "31528783702883862561526346182209033430148497568645518236496150941921876362030560021935362772322031050241959211139905612495576796501129006007107932800002048"
      ]
     },
     "execution_count": 13,
     "metadata": {
     },
     "output_type": "execute_result"
    }
   ],
   "source": [
    "y"
   ]
  },
  {
   "cell_type": "code",
   "execution_count": 14,
   "metadata": {
    "collapsed": false
   },
   "outputs": [
    {
     "data": {
      "text/plain": [
       "1"
      ]
     },
     "execution_count": 14,
     "metadata": {
     },
     "output_type": "execute_result"
    }
   ],
   "source": [
    "Zn(-y)"
   ]
  },
  {
   "cell_type": "code",
   "execution_count": 15,
   "metadata": {
    "collapsed": false
   },
   "outputs": [
    {
     "data": {
      "text/plain": [
       "-3920890419157627249481568580809796167501711154685673423284812882442385536444001713938452546361015052666121028353267255809835119818912023910613306569433264336041440411358186228296124723407293409987552493819195989667330634823425345172"
      ]
     },
     "execution_count": 15,
     "metadata": {
     },
     "output_type": "execute_result"
    }
   ],
   "source": [
    "a*p*s"
   ]
  },
  {
   "cell_type": "code",
   "execution_count": 16,
   "metadata": {
    "collapsed": false
   },
   "outputs": [
    {
     "data": {
      "text/plain": [
       "694470090637480393269415645484181667614225715667984522914476458372175613284199223785549473161287588379807479648664836592498667938775319696817156813530214872488923402501985900771575013898420736651498399439210715510835842564354576728"
      ]
     },
     "execution_count": 16,
     "metadata": {
     },
     "output_type": "execute_result"
    }
   ],
   "source": [
    "b*q*r"
   ]
  },
  {
   "cell_type": "code",
   "execution_count": 17,
   "metadata": {
    "collapsed": false
   },
   "outputs": [
    {
     "data": {
      "text/plain": [
       "37364401801195830308599776672844037678099036512759641695920438458936462828559/2"
      ]
     },
     "execution_count": 17,
     "metadata": {
     },
     "output_type": "execute_result"
    }
   ],
   "source": [
    "(p+1)/4"
   ]
  },
  {
   "cell_type": "code",
   "execution_count": 0,
   "metadata": {
    "collapsed": false
   },
   "outputs": [
   ],
   "source": [
   ]
  },
  {
   "cell_type": "code",
   "execution_count": 0,
   "metadata": {
    "collapsed": false
   },
   "outputs": [
   ],
   "source": [
   ]
  },
  {
   "cell_type": "markdown",
   "metadata": {
    "collapsed": false
   },
   "source": [
    "# Segunda Solucao"
   ]
  },
  {
   "cell_type": "code",
   "execution_count": 0,
   "metadata": {
    "collapsed": false
   },
   "outputs": [
   ],
   "source": [
   ]
  },
  {
   "cell_type": "code",
   "execution_count": 18,
   "metadata": {
    "collapsed": false
   },
   "outputs": [
   ],
   "source": [
    "def gen_rand_mod_prime(hbound,lbound):\n",
    "    while 1:\n",
    "        p = random_prime(hbound, lbound, True)\n",
    "        if (mod(p,4) == 3) or (mod(p,8) == 5):\n",
    "            return p\n",
    "\n",
    "\n",
    "# É para usar a de cima, esta é mais simples so para testar\n",
    "\n",
    "# def gen_rand_mod_prime(hbound,lbound):\n",
    "#     while 1:\n",
    "#         p = random_prime(hbound, lbound, True)\n",
    "# #         p = random_prime(hbound, lbound)\n",
    "#         if (mod(p,4) == 3):\n",
    "#             return p\n",
    "\n",
    "\n",
    "\n",
    "# def gen_rand_mod_prime(hbound,lbound):\n",
    "#     while 1:\n",
    "#         p = random_prime(hbound, lbound, True)\n",
    "#         if (mod(p,8) == 5):\n",
    "#             return p"
   ]
  },
  {
   "cell_type": "code",
   "execution_count": 19,
   "metadata": {
    "collapsed": false
   },
   "outputs": [
    {
     "name": "stdout",
     "output_type": "stream",
     "text": [
      "146638442506544683303838617253975397672861898433082161255549652653299709332072524407104437296810868067224125865766482585802964736943796434897554947352076283768511595056708002277823272790038275406132191105132506841065599873188300224752546759776655854947837343468111684096942621645279338567007282676294589951423 64201661913036045814734251325209825435798460735565580496602904456607982395744201954903019058348933945308365066813484993312213382930979172402853870031918849933977727552444107551659877851222582400358898880209501759090031067882427877458401361365601509015973290094773378594350973115145129969471742931997981809843\n"
     ]
    }
   ],
   "source": [
    "# p = gen_rand_mod_prime(2^16,2^15)\n",
    "# q = gen_rand_mod_prime(2^15,2^14)\n",
    "# p = gen_rand_mod_prime(2^512,2^513)\n",
    "# q = gen_rand_mod_prime(2^513,2^512)\n",
    "p = gen_rand_mod_prime(2^1024,2^1023)\n",
    "q = gen_rand_mod_prime(2^1023,2^1022)\n",
    "print(p,q)"
   ]
  },
  {
   "cell_type": "code",
   "execution_count": 20,
   "metadata": {
    "collapsed": false
   },
   "outputs": [
    {
     "data": {
      "text/plain": [
       "9414431709259355749432212834227331238887652715777208609887620030805969159774163710248536432895236391454386118633505231645364699672356879844829888708080793299257234132816901431412845855864522652040721046071815310185347197709490806801019435350586306922375659276972696635389033706643960492748175461056252991254713875218737848675652456796854783229990249232582403062399257368201333269290656120419339470774678316562134829658740094333526733161160947151642317916669152417661160387019157553693126893265072286817065629026545361699258743506008746851802706875344846128295629167844564391567915955619343672464409233563686993256589"
      ]
     },
     "execution_count": 20,
     "metadata": {
     },
     "output_type": "execute_result"
    }
   ],
   "source": [
    "n = p*q\n",
    "n"
   ]
  },
  {
   "cell_type": "code",
   "execution_count": 21,
   "metadata": {
    "collapsed": false
   },
   "outputs": [
   ],
   "source": [
    "PrivKey = (p,q)\n",
    "PubKey = n"
   ]
  },
  {
   "cell_type": "code",
   "execution_count": 22,
   "metadata": {
    "collapsed": false
   },
   "outputs": [
   ],
   "source": [
    "def rabin_encrypt(m, n):\n",
    "    m = int(str(m) + str(m))\n",
    "\n",
    "    if (m < n-1) and (m>=0):\n",
    "        c = mod(m^2,n)\n",
    "        return c\n",
    "    else:\n",
    "        print(\"Mensagem não válida\")"
   ]
  },
  {
   "cell_type": "code",
   "execution_count": 23,
   "metadata": {
    "collapsed": false
   },
   "outputs": [
    {
     "data": {
      "text/plain": [
       "15241578780673678515622620750190521"
      ]
     },
     "execution_count": 23,
     "metadata": {
     },
     "output_type": "execute_result"
    }
   ],
   "source": [
    "c = rabin_encrypt(123456789, PubKey)\n",
    "c"
   ]
  },
  {
   "cell_type": "code",
   "execution_count": 24,
   "metadata": {
    "collapsed": false
   },
   "outputs": [
   ],
   "source": [
    "#3 mod 4\n",
    "\n",
    "# Zp = IntegerModRing(p)\n",
    "# rp = c^((p+1)/4)\n",
    "# r = Zp(rp)\n",
    "\n",
    "# 5 mod 8\n",
    "\n",
    "# Zp = IntegerModRing(p)\n",
    "# rp = c^((p-1)/4)\n",
    "# d = Zp(rp)\n",
    "\n",
    "# if(d == 1):\n",
    "#     rp = c^((p+3)/8)\n",
    "#     r = Zp(rp)\n",
    "# if(d == p-1):\n",
    "#     rp = 2*c*((4*c)^((p-5)/8))\n",
    "#     r = Zp(rp)\n",
    "#     print(\"IF\")\n",
    "\n",
    "# r\n",
    "\n",
    "# mod(p,4) == 3) or (mod(p,8) == 5)\n"
   ]
  },
  {
   "cell_type": "code",
   "execution_count": 25,
   "metadata": {
    "collapsed": false
   },
   "outputs": [
   ],
   "source": [
    "# 3 mod 4\n",
    "\n",
    "# Zq = IntegerModRing(q)\n",
    "# sq = c^((q+1)/4)\n",
    "# s = Zq(sq)\n",
    "\n",
    "# 5 mod 8\n",
    "\n",
    "# Zq = IntegerModRing(q)\n",
    "# sq = c^((q-1)/4)\n",
    "# d = Zq(sq)\n",
    "\n",
    "# if(d == 1):\n",
    "#     sq = c^((q+3)/8)\n",
    "#     s = Zq(sq)\n",
    "# if(d == q-1):\n",
    "#     sq = 2*c*((4*c)^((q-5)/8))\n",
    "#     s = Zq(sq)\n",
    "#     print(\"IF\")\n",
    "\n",
    "# s"
   ]
  },
  {
   "cell_type": "code",
   "execution_count": 26,
   "metadata": {
    "collapsed": false
   },
   "outputs": [
   ],
   "source": [
    "def sqrt_mod(a,p):\n",
    "    if(mod(p,4) == 3):\n",
    "        Zp = IntegerModRing(p)\n",
    "        rp = c^((p+1)/4)\n",
    "        r = Zp(rp)\n",
    "        return r\n",
    "    if(mod(p,8) == 5):\n",
    "        Zp = IntegerModRing(p)\n",
    "        dp = c^((p-1)/4)\n",
    "        d = Zp(dp)\n",
    "        if(d == 1):\n",
    "            rp = c^((p+3)/8)\n",
    "            r = Zp(rp)\n",
    "            return r\n",
    "        if(d == p-1):\n",
    "            rp = 2*c*((4*c)^((p-5)/8))\n",
    "            r = Zp(rp)\n",
    "            return r"
   ]
  },
  {
   "cell_type": "code",
   "execution_count": 27,
   "metadata": {
    "collapsed": false
   },
   "outputs": [
    {
     "data": {
      "text/plain": [
       "(146638442506544683303838617253975397672861898433082161255549652653299709332072524407104437296810868067224125865766482585802964736943796434897554947352076283768511595056708002277823272790038275406132191105132506841065599873188300224752546759776655854947837343468111684096942621645279338567007159219505466494634,\n",
       " 123456789123456789)"
      ]
     },
     "execution_count": 27,
     "metadata": {
     },
     "output_type": "execute_result"
    }
   ],
   "source": [
    "r = sqrt_mod(c,p)\n",
    "s = sqrt_mod(c,q)\n",
    "(r,s)"
   ]
  },
  {
   "cell_type": "code",
   "execution_count": 28,
   "metadata": {
    "collapsed": false
   },
   "outputs": [
    {
     "data": {
      "text/plain": [
       "(3360162900000064842538076062423629051689260085615649805707092671582129048545999992845464850389842619726717477866872659904227823672999691564848701617907901776804832146273084638386406021016340251748781640674105941805368893053818861675147342487979359079130910907879130572799714820489575265860825909859147346405861083068869397092260620489763262765695785432150403531483953455355787761328774558573896232079568830982474664285081479203318828017744511990263226776563660022825938082008627093936653463291932636234803053589509875758515956230021924468624772997293323587941212226024262743454191298847078221720178057099943452243388,\n",
       " 123456789123456789,\n",
       " 6054268809259290906894136771803702187198392630161558804180527359223840111228163717403071582505393771727668640766632571741136875999357188279981187090172891522452401986543816793026439834848182400291939405397709368379978304655671945125872092862606947843244748369093566062589318886154385226887349551197105644848852792149868451583391836307091520464294463800431999530915303912845545507961881561845443238695109485579660165373658615130207905143416435161379091140105492394835222305010530459756473429973139650582262575437035485940742787275986822383177933878051522540354416941820301648113724656772265450744231176463743541013201,\n",
       " 9414431709259355749432212834227331238887652715777208609887620030805969159774163710248536432895236391454386118633505231645364699672356879844829888708080793299257234132816901431412845855864522652040721046071815310185347197709490806801019435350586306922375659276972696635389033706643960492748175461056252991254713875218737848675652456796854783229990249232582403062399257368201333269290656120419339470774678316562134829658740094333526733161160947151642317916669152417661160387019157553693126893265072286817065629026545361699258743506008746851802706875344846128295629167844564391567915955619343672464409110106897869799800)"
      ]
     },
     "execution_count": 28,
     "metadata": {
     },
     "output_type": "execute_result"
    }
   ],
   "source": [
    "m1 = crt(int(r),int(s),int(p),int(q))\n",
    "m2 = crt(int(-r),int(s),int(p),int(q))\n",
    "m3 = crt(int(-r),int(-s),int(p),int(q))\n",
    "m4 = crt(int(r),int(-s),int(p),int(q))\n",
    "(m1,m2,m3,m4)"
   ]
  },
  {
   "cell_type": "code",
   "execution_count": 29,
   "metadata": {
    "collapsed": false
   },
   "outputs": [
    {
     "ename": "NameError",
     "evalue": "name 'get_message' is not defined",
     "output_type": "error",
     "traceback": [
      "\u001b[0;31m---------------------------------------------------------------------------\u001b[0m",
      "\u001b[0;31mNameError\u001b[0m                                 Traceback (most recent call last)",
      "\u001b[0;32m<ipython-input-29-59e07c12fa7c>\u001b[0m in \u001b[0;36m<module>\u001b[0;34m\u001b[0m\n\u001b[0;32m----> 1\u001b[0;31m \u001b[0mget_message\u001b[0m\u001b[0;34m(\u001b[0m\u001b[0;34m(\u001b[0m\u001b[0mm1\u001b[0m\u001b[0;34m,\u001b[0m\u001b[0mm2\u001b[0m\u001b[0;34m,\u001b[0m\u001b[0mm3\u001b[0m\u001b[0;34m,\u001b[0m\u001b[0mm4\u001b[0m\u001b[0;34m)\u001b[0m\u001b[0;34m)\u001b[0m\u001b[0;34m\u001b[0m\u001b[0;34m\u001b[0m\u001b[0m\n\u001b[0m",
      "\u001b[0;31mNameError\u001b[0m: name 'get_message' is not defined"
     ]
    }
   ],
   "source": [
    "get_message((m1,m2,m3,m4))"
   ]
  },
  {
   "cell_type": "code",
   "execution_count": 0,
   "metadata": {
    "collapsed": false
   },
   "outputs": [
   ],
   "source": [
   ]
  },
  {
   "cell_type": "code",
   "execution_count": 0,
   "metadata": {
    "collapsed": false
   },
   "outputs": [
   ],
   "source": [
   ]
  },
  {
   "cell_type": "code",
   "execution_count": 0,
   "metadata": {
    "collapsed": false
   },
   "outputs": [
   ],
   "source": [
   ]
  },
  {
   "cell_type": "code",
   "execution_count": 0,
   "metadata": {
    "collapsed": false
   },
   "outputs": [
   ],
   "source": [
   ]
  },
  {
   "cell_type": "code",
   "execution_count": 0,
   "metadata": {
    "collapsed": false
   },
   "outputs": [
   ],
   "source": [
    "gcd_pq = xgcd(p,q)\n",
    "a = gcd_pq[1]\n",
    "b = gcd_pq[2]\n",
    "(a,b)"
   ]
  },
  {
   "cell_type": "code",
   "execution_count": 0,
   "metadata": {
    "collapsed": false
   },
   "outputs": [
   ],
   "source": [
    "Zn = IntegerModRing(n)"
   ]
  },
  {
   "cell_type": "code",
   "execution_count": 0,
   "metadata": {
    "collapsed": false
   },
   "outputs": [
   ],
   "source": [
   ]
  },
  {
   "cell_type": "code",
   "execution_count": 0,
   "metadata": {
    "collapsed": false
   },
   "outputs": [
   ],
   "source": [
    "# x = Zn(a*p*s + b*q*r)\n",
    "x = Zn(int(a)*int(p)*int(s) + int(b)*int(q)*int(r))\n",
    "x"
   ]
  },
  {
   "cell_type": "code",
   "execution_count": 0,
   "metadata": {
    "collapsed": false
   },
   "outputs": [
   ],
   "source": [
    "y = Zn(int(a)*int(p)*int(s) - int(b)*int(q)*int(r))\n",
    "y"
   ]
  },
  {
   "cell_type": "code",
   "execution_count": 0,
   "metadata": {
    "collapsed": false
   },
   "outputs": [
   ],
   "source": [
    "l = (x,Zn(-x), y, Zn(-y))\n",
    "l"
   ]
  },
  {
   "cell_type": "code",
   "execution_count": 0,
   "metadata": {
    "collapsed": false
   },
   "outputs": [
   ],
   "source": [
    "ll = (Zn(x), Zn(-x), Zn(y), Zn(-y))\n",
    "ll"
   ]
  },
  {
   "cell_type": "code",
   "execution_count": 0,
   "metadata": {
    "collapsed": false
   },
   "outputs": [
   ],
   "source": [
    "def get_message(l):\n",
    "    for i in l:\n",
    "        num = str(i)\n",
    "        comp = len(num)\n",
    "        if(comp % 2 != 0):\n",
    "            continue\n",
    "#         print(comp)\n",
    "        for j in range(comp/2):\n",
    "            k = j+comp/2\n",
    "#             print(num[j], num[k])\n",
    "            if(num[j] != num[k]):\n",
    "                continue\n",
    "            if(j == comp/2 - 1):\n",
    "                return int(num[:(comp/2)])"
   ]
  },
  {
   "cell_type": "code",
   "execution_count": 0,
   "metadata": {
    "collapsed": false
   },
   "outputs": [
   ],
   "source": [
    "r = get_message(l)"
   ]
  },
  {
   "cell_type": "code",
   "execution_count": 0,
   "metadata": {
    "collapsed": false
   },
   "outputs": [
   ],
   "source": [
    "r"
   ]
  },
  {
   "cell_type": "code",
   "execution_count": 0,
   "metadata": {
    "collapsed": false
   },
   "outputs": [
   ],
   "source": [
    "r = get_message(ll)"
   ]
  },
  {
   "cell_type": "code",
   "execution_count": 0,
   "metadata": {
    "collapsed": false
   },
   "outputs": [
   ],
   "source": [
    "r"
   ]
  },
  {
   "cell_type": "code",
   "execution_count": 0,
   "metadata": {
    "collapsed": false
   },
   "outputs": [
   ],
   "source": [
    "# m1 = crt(int(r),int(s),int(p),int(q))\n",
    "# m2 = crt(int(-r),int(s),int(p),int(q))\n",
    "# m3 = crt(int(-r),int(-s),int(p),int(q))\n",
    "# m4 = crt(int(r),int(-s),int(p),int(q))\n",
    "# m4 = crt(r,-s,p,q)\n",
    "# l = (m1,m2,m3,m4)\n",
    "# l"
   ]
  },
  {
   "cell_type": "code",
   "execution_count": 0,
   "metadata": {
    "collapsed": false
   },
   "outputs": [
   ],
   "source": [
    "r=get_message(l)\n",
    "r"
   ]
  },
  {
   "cell_type": "code",
   "execution_count": 0,
   "metadata": {
    "collapsed": false
   },
   "outputs": [
   ],
   "source": [
   ]
  },
  {
   "cell_type": "code",
   "execution_count": 0,
   "metadata": {
    "collapsed": false
   },
   "outputs": [
   ],
   "source": [
   ]
  },
  {
   "cell_type": "code",
   "execution_count": 0,
   "metadata": {
    "collapsed": false
   },
   "outputs": [
   ],
   "source": [
    "r = sqrt_mod(c,p)\n",
    "# rn = sqrt_mod(-int(c),p)\n",
    "# (r,rn)\n",
    "# r\n",
    "# Zp = IntegerModRing(p)\n",
    "# rr = Zp(sqrt(c))\n",
    "r,-r"
   ]
  },
  {
   "cell_type": "code",
   "execution_count": 0,
   "metadata": {
    "collapsed": false
   },
   "outputs": [
   ],
   "source": [
    "s = sqrt_mod(c,q)\n",
    "# Zq = IntegerModRing(q)\n",
    "# s = Zq(sqrt(c))\n",
    "# sn = sqrt_mod(-c,q)\n",
    "# (s,sn)\n",
    "# s\n",
    "s,-s"
   ]
  },
  {
   "cell_type": "code",
   "execution_count": 0,
   "metadata": {
    "collapsed": false
   },
   "outputs": [
   ],
   "source": [
    "gcd_pq = xgcd(p,q)\n",
    "a = gcd_pq[1]\n",
    "b = gcd_pq[2]\n",
    "(a,b)"
   ]
  },
  {
   "cell_type": "code",
   "execution_count": 0,
   "metadata": {
    "collapsed": false
   },
   "outputs": [
   ],
   "source": [
    "x = Zn(int(a)*int(p)*int(s) + int(b)*int(q)*int(r))\n",
    "x"
   ]
  },
  {
   "cell_type": "code",
   "execution_count": 0,
   "metadata": {
    "collapsed": false
   },
   "outputs": [
   ],
   "source": [
    "y = Zn(int(a)*int(p)*int(s) - int(b)*int(q)*int(r))\n",
    "y"
   ]
  },
  {
   "cell_type": "code",
   "execution_count": 0,
   "metadata": {
    "collapsed": false
   },
   "outputs": [
   ],
   "source": [
    "r,s,p,q"
   ]
  },
  {
   "cell_type": "code",
   "execution_count": 0,
   "metadata": {
    "collapsed": false
   },
   "outputs": [
   ],
   "source": [
    "m1 = crt(int(r),int(s),int(p),int(q))\n",
    "m2 = crt(int(-r),int(s),int(p),int(q))\n",
    "m3 = crt(int(-r),int(-s),int(p),int(q))\n",
    "m4 = crt(int(r),int(-s),int(p),int(q))\n",
    "(m1,m2,m3,m4)"
   ]
  },
  {
   "cell_type": "code",
   "execution_count": 0,
   "metadata": {
    "collapsed": false
   },
   "outputs": [
   ],
   "source": [
    "get_message((m1,m2,m3,m4))"
   ]
  },
  {
   "cell_type": "code",
   "execution_count": 0,
   "metadata": {
    "collapsed": false
   },
   "outputs": [
   ],
   "source": [
   ]
  },
  {
   "cell_type": "code",
   "execution_count": 0,
   "metadata": {
    "collapsed": false
   },
   "outputs": [
   ],
   "source": [
   ]
  }
 ],
 "metadata": {
  "kernelspec": {
   "display_name": "SageMath 9.2",
   "language": "sagemath",
   "metadata": {
    "cocalc": {
     "description": "Open-source mathematical software system",
     "priority": 10,
     "url": "https://www.sagemath.org/"
    }
   },
   "name": "sage-9.2",
   "resource_dir": "/ext/jupyter/kernels/sage-9.2"
  },
  "language_info": {
   "codemirror_mode": {
    "name": "ipython",
    "version": 3
   },
   "file_extension": ".py",
   "mimetype": "text/x-python",
   "name": "python",
   "nbconvert_exporter": "python",
   "pygments_lexer": "ipython3",
   "version": "3.8.5"
  }
 },
 "nbformat": 4,
 "nbformat_minor": 4
}