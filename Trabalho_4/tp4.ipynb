{
 "cells": [
  {
   "cell_type": "markdown",
   "metadata": {
    "collapsed": false
   },
   "source": [
    "# Assinatura Digital ElGamal\n",
    "\n",
    "### Grupo:\n",
    "\n",
    "    - João Marques, A84684\n",
    "    - Luis Bigas, A76964"
   ]
  },
  {
   "cell_type": "markdown",
   "metadata": {
    "collapsed": false
   },
   "source": [
    "# Parameter Generation"
   ]
  },
  {
   "cell_type": "code",
   "execution_count": 22,
   "metadata": {
    "collapsed": false
   },
   "outputs": [
    {
     "data": {
      "text/plain": [
       "90411477113230214551024279433109155579"
      ]
     },
     "execution_count": 22,
     "metadata": {
     },
     "output_type": "execute_result"
    }
   ],
   "source": [
    "nbits=256\n",
    "p=random_prime(2^(nbits//2),(2^(nbits//2-1)),True)\n",
    "p"
   ]
  },
  {
   "cell_type": "code",
   "execution_count": 23,
   "metadata": {
    "collapsed": false
   },
   "outputs": [
   ],
   "source": [
    "Zp = IntegerModRing(p)"
   ]
  },
  {
   "cell_type": "code",
   "execution_count": 24,
   "metadata": {
    "collapsed": false
   },
   "outputs": [
    {
     "data": {
      "text/plain": [
       "2"
      ]
     },
     "execution_count": 24,
     "metadata": {
     },
     "output_type": "execute_result"
    }
   ],
   "source": [
    "g = Zp.multiplicative_generator()\n",
    "g"
   ]
  },
  {
   "cell_type": "code",
   "execution_count": 25,
   "metadata": {
    "collapsed": false
   },
   "outputs": [
    {
     "data": {
      "text/plain": [
       "(90411477113230214551024279433109155579, 2)"
      ]
     },
     "execution_count": 25,
     "metadata": {
     },
     "output_type": "execute_result"
    }
   ],
   "source": [
    "p,g"
   ]
  },
  {
   "cell_type": "markdown",
   "metadata": {
    "collapsed": false
   },
   "source": [
    "# Per-user keys"
   ]
  },
  {
   "cell_type": "markdown",
   "metadata": {
    "collapsed": false
   },
   "source": [
    "$x \\in \\{1...p-2\\}$\n",
    "\n",
    "$y = g^x \\mod p$ "
   ]
  },
  {
   "cell_type": "code",
   "execution_count": 26,
   "metadata": {
    "collapsed": false
   },
   "outputs": [
    {
     "data": {
      "text/plain": [
       "(89875716387904429754579234117122277502,\n",
       " 58725406499771913471859489679126434703)"
      ]
     },
     "execution_count": 26,
     "metadata": {
     },
     "output_type": "execute_result"
    }
   ],
   "source": [
    "x = randint(1,p-2)\n",
    "y = power_mod(g,x,p)\n",
    "x,y"
   ]
  },
  {
   "cell_type": "markdown",
   "metadata": {
    "collapsed": false
   },
   "source": [
    "# Signing"
   ]
  },
  {
   "cell_type": "markdown",
   "metadata": {
    "collapsed": false
   },
   "source": [
    "$k \\in \\{2...p-2\\}, mdc(k,p-1) = 1$"
   ]
  },
  {
   "cell_type": "markdown",
   "metadata": {
    "collapsed": false
   },
   "source": [
    "$r = g^{(k)} \\mod p$"
   ]
  },
  {
   "cell_type": "markdown",
   "metadata": {
    "collapsed": false
   },
   "source": [
    "$s = (H(m)-xr)k^{-1} \\mod (p-1)$"
   ]
  },
  {
   "cell_type": "code",
   "execution_count": 27,
   "metadata": {
    "collapsed": false
   },
   "outputs": [
    {
     "data": {
      "text/plain": [
       "(40055069499736738038659820253861296396,\n",
       " 80675248095764596753463956164636792585)"
      ]
     },
     "execution_count": 27,
     "metadata": {
     },
     "output_type": "execute_result"
    }
   ],
   "source": [
    "import hashlib\n",
    "mOrig = \"Here's Johnny!\"\n",
    "mEncoded = bytes(mOrig, 'utf-8')\n",
    "HH = hashlib.sha256(mEncoded).hexdigest()\n",
    "m=ZZ('0x'+HH)\n",
    "\n",
    "k = randint(2,p-2)\n",
    "while not gcd(k,p-1)==1:\n",
    "    k = randint(2,p-2)\n",
    "\n",
    "r = int(power_mod(g,k,p))\n",
    "\n",
    "ki = power_mod(k,-1,p-1)\n",
    "si = (m - (x*r)) * ki\n",
    "s = int(mod(si,p-1))\n",
    "r,s"
   ]
  },
  {
   "cell_type": "markdown",
   "metadata": {
    "collapsed": false
   },
   "source": [
    "# Verifying a Signature"
   ]
  },
  {
   "cell_type": "markdown",
   "metadata": {
    "collapsed": false
   },
   "source": [
    "$0 < r < p \\wedge 0 < s < p-1$"
   ]
  },
  {
   "cell_type": "code",
   "execution_count": 28,
   "metadata": {
    "collapsed": false
   },
   "outputs": [
    {
     "data": {
      "text/plain": [
       "(True, True)"
      ]
     },
     "execution_count": 28,
     "metadata": {
     },
     "output_type": "execute_result"
    }
   ],
   "source": [
    "0<r<p, 0<s<p-1"
   ]
  },
  {
   "cell_type": "markdown",
   "metadata": {
    "collapsed": false
   },
   "source": [
    "$g^{H(m)} = y^rr^s \\mod p$"
   ]
  },
  {
   "cell_type": "code",
   "execution_count": 29,
   "metadata": {
    "collapsed": false
   },
   "outputs": [
    {
     "data": {
      "text/plain": [
       "True"
      ]
     },
     "execution_count": 29,
     "metadata": {
     },
     "output_type": "execute_result"
    }
   ],
   "source": [
    "gh = power_mod(g,m,p)\n",
    "y = power_mod(y,r,p)\n",
    "r = power_mod(r,s,p)\n",
    "yr = y*r\n",
    "gh == yr"
   ]
  },
  {
   "cell_type": "code",
   "execution_count": 0,
   "metadata": {
    "collapsed": false
   },
   "outputs": [
   ],
   "source": [
   ]
  },
  {
   "cell_type": "code",
   "execution_count": 0,
   "metadata": {
    "collapsed": false
   },
   "outputs": [
   ],
   "source": [
   ]
  },
  {
   "cell_type": "code",
   "execution_count": 16,
   "metadata": {
    "collapsed": false
   },
   "outputs": [
   ],
   "source": [
    "def gen_para(nbits):\n",
    "    p=random_prime(2^(nbits//2),(2^(nbits//2-1)),True)\n",
    "\n",
    "    Zp = IntegerModRing(p)\n",
    "    g = Zp.multiplicative_generator()\n",
    "\n",
    "    return p,g"
   ]
  },
  {
   "cell_type": "code",
   "execution_count": 17,
   "metadata": {
    "collapsed": false
   },
   "outputs": [
   ],
   "source": [
    "def gen_user_key(p,g):\n",
    "    x = randint(1,p-2)\n",
    "    y = power_mod(g,x,p)\n",
    "    return x,y"
   ]
  },
  {
   "cell_type": "code",
   "execution_count": 15,
   "metadata": {
    "collapsed": false
   },
   "outputs": [
   ],
   "source": [
    "def sign(mOrig,p,g,x):\n",
    "    mEncoded = bytes(mOrig, 'utf-8')\n",
    "    HH = hashlib.sha256(mEncoded).hexdigest()\n",
    "    m=ZZ('0x'+HH)\n",
    "\n",
    "    k = randint(2,p-2)\n",
    "    while not gcd(k,p-1)==1:\n",
    "        k = randint(2,p-2)\n",
    "\n",
    "    r = int(power_mod(g,k,p))\n",
    "    ki = power_mod(k,-1,p-1)\n",
    "    si = (m - (x*r)) * ki\n",
    "\n",
    "    s = int(mod(si,p-1))\n",
    "\n",
    "    return r,s"
   ]
  },
  {
   "cell_type": "code",
   "execution_count": 16,
   "metadata": {
    "collapsed": false
   },
   "outputs": [
   ],
   "source": [
    "def verify(mOrig,p,g,y,r,s):\n",
    "    if (not 0<r<p) or (not 0<s<p-1):\n",
    "        return False\n",
    "\n",
    "    mEncoded = bytes(mOrig, 'utf-8')\n",
    "    HH = hashlib.sha256(mEncoded).hexdigest()\n",
    "    m=ZZ('0x'+HH)\n",
    "\n",
    "    gh = power_mod(g,m,p)\n",
    "    y = power_mod(y,r,p)\n",
    "    r = power_mod(r,s,p)\n",
    "\n",
    "    yr = y*r\n",
    "    return gh == yr"
   ]
  },
  {
   "cell_type": "code",
   "execution_count": 17,
   "metadata": {
    "collapsed": false
   },
   "outputs": [
    {
     "data": {
      "text/plain": [
       "(961406493615610709190290109331, 3)"
      ]
     },
     "execution_count": 17,
     "metadata": {
     },
     "output_type": "execute_result"
    }
   ],
   "source": [
    "p,g = gen_para(256)\n",
    "p,g"
   ]
  },
  {
   "cell_type": "code",
   "execution_count": 18,
   "metadata": {
    "collapsed": false
   },
   "outputs": [
    {
     "data": {
      "text/plain": [
       "(31939740115984729680394651830, 705208023764014544979543432869)"
      ]
     },
     "execution_count": 18,
     "metadata": {
     },
     "output_type": "execute_result"
    }
   ],
   "source": [
    "x,y = gen_user_key(p,g)\n",
    "x,y"
   ]
  },
  {
   "cell_type": "code",
   "execution_count": 19,
   "metadata": {
    "collapsed": false
   },
   "outputs": [
    {
     "data": {
      "text/plain": [
       "(256187706838329341137541980931, 109779128737143665392962343905)"
      ]
     },
     "execution_count": 19,
     "metadata": {
     },
     "output_type": "execute_result"
    }
   ],
   "source": [
    "m = \"Nobody expects the Spanish Inquisition\"\n",
    "r,s=sign(m,p,g,x)\n",
    "r,s"
   ]
  },
  {
   "cell_type": "code",
   "execution_count": 20,
   "metadata": {
    "collapsed": false
   },
   "outputs": [
    {
     "data": {
      "text/plain": [
       "True"
      ]
     },
     "execution_count": 20,
     "metadata": {
     },
     "output_type": "execute_result"
    }
   ],
   "source": [
    "verify(m,p,g,y,r,s)"
   ]
  },
  {
   "cell_type": "code",
   "execution_count": 0,
   "metadata": {
    "collapsed": false
   },
   "outputs": [
   ],
   "source": [
   ]
  },
  {
   "cell_type": "code",
   "execution_count": 0,
   "metadata": {
    "collapsed": false
   },
   "outputs": [
   ],
   "source": [
   ]
  }
 ],
 "metadata": {
  "kernelspec": {
   "display_name": "SageMath 9.2",
   "language": "sagemath",
   "metadata": {
    "cocalc": {
     "description": "Open-source mathematical software system",
     "priority": 1,
     "url": "https://www.sagemath.org/"
    }
   },
   "name": "sage-9.2",
   "resource_dir": "/ext/jupyter/kernels/sage-9.2"
  },
  "language_info": {
   "codemirror_mode": {
    "name": "ipython",
    "version": 3
   },
   "file_extension": ".py",
   "mimetype": "text/x-python",
   "name": "python",
   "nbconvert_exporter": "python",
   "pygments_lexer": "ipython3",
   "version": "3.8.5"
  },
  "orig_nbformat": 2
 },
 "nbformat": 4,
 "nbformat_minor": 4
}