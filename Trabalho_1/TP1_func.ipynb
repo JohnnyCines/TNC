{
 "cells": [
  {
   "cell_type": "markdown",
   "metadata": {
    "collapsed": false
   },
   "source": [
    "* Algoritmo de Gordon\n",
    "\n",
    "\n",
    "Grupo:\n",
    "\n",
    "- João Marques, a84684\n",
    "- Luis Bigas,   a76964"
   ]
  },
  {
   "cell_type": "code",
   "execution_count": 9,
   "metadata": {
    "collapsed": false,
    "jupyter": {
    }
   },
   "outputs": [
    {
     "name": "stdout",
     "output_type": "stream",
     "text": [
      "s:  59709110012245475587808498043186486774186502665991310853222174654131784982271 \n",
      "\n",
      "t:  76752108508541767210004166549439533467437757735267386133680243778139326419339\n"
     ]
    }
   ],
   "source": [
    "nbits = floor(512/2) # 256\n",
    "s = random_prime(2^nbits,True,2^(nbits-1))\n",
    "t = random_prime(2^nbits,True,2^(nbits-1))\n",
    "\n",
    "print(\"s: \", s , \"\\n\")\n",
    "print(\"t: \", t)"
   ]
  },
  {
   "cell_type": "markdown",
   "metadata": {
    "collapsed": false
   },
   "source": [
    "$\\exists \\ i = i_0, i_0+1, i_0+2 ... \\ \\mid  r=2it+1\\ \\text{é primo}$"
   ]
  },
  {
   "cell_type": "code",
   "execution_count": 10,
   "metadata": {
    "collapsed": false,
    "jupyter": {
    }
   },
   "outputs": [
   ],
   "source": [
    "i=1\n",
    "r=0\n",
    "while not is_prime(r):\n",
    "    r=2*i*t+1\n",
    "    i+=1"
   ]
  },
  {
   "cell_type": "markdown",
   "metadata": {
    "collapsed": false
   },
   "source": [
    "$p_0 = 2(s^{r-2}\\mod r)s-1$"
   ]
  },
  {
   "cell_type": "code",
   "execution_count": 11,
   "metadata": {
    "collapsed": false,
    "jupyter": {
    }
   },
   "outputs": [
    {
     "data": {
      "text/plain": [
       "2272746083338996596595404788201681126801058941246848718085428008292595925599522998529049085522929293916559220841756584812172834996365259084742196964089230403"
      ]
     },
     "execution_count": 11,
     "metadata": {
     },
     "output_type": "execute_result"
    }
   ],
   "source": [
    "p0=2*int(pow(s,r-2,r))*s-1\n",
    "p0"
   ]
  },
  {
   "cell_type": "markdown",
   "metadata": {
    "collapsed": false
   },
   "source": [
    "$\\exists \\ j = j_0, j_0+1, i_j+2 ... \\ \\mid  p=p_0+2jrs\\ \\text{é primo}$"
   ]
  },
  {
   "cell_type": "code",
   "execution_count": 12,
   "metadata": {
    "collapsed": false,
    "jupyter": {
    }
   },
   "outputs": [
    {
     "name": "stdout",
     "output_type": "stream",
     "text": [
      "O número primo gerado:\n",
      " 505574183234307394645111030206095707523256501318727989790824661762685678372928148194269489486643805633556708183285255449577821692356112871772840995195007738851 \n",
      "\n",
      "Com um comprimento de:\n",
      " 528 bits\n"
     ]
    }
   ],
   "source": [
    "j=1\n",
    "p=0\n",
    "while not is_prime(p):\n",
    "    p=p0+2*j*r*s\n",
    "    j+=1\n",
    "\n",
    "print(\"O número primo gerado:\\n\", p , \"\\n\\nCom um comprimento de:\\n\", len(bin(p))-2 ,\"bits\")"
   ]
  },
  {
   "cell_type": "code",
   "execution_count": 0,
   "metadata": {
    "collapsed": false
   },
   "outputs": [
   ],
   "source": [
   ]
  },
  {
   "cell_type": "markdown",
   "metadata": {
    "collapsed": false
   },
   "source": [
    "* Teste Primo Forte"
   ]
  },
  {
   "cell_type": "markdown",
   "metadata": {
    "collapsed": false
   },
   "source": [
    "* Definição criptográfica\n",
    "\n",
    "$p-1$ Tem grandes fatores primos\n",
    "\n",
    "$p+1$ Tem grandes fatores primos\n",
    "\n",
    "$r-1$ Tem grandes fatores primos"
   ]
  },
  {
   "cell_type": "code",
   "execution_count": 13,
   "metadata": {
    "collapsed": false,
    "jupyter": {
    }
   },
   "outputs": [
    {
     "data": {
      "text/plain": [
       "True"
      ]
     },
     "execution_count": 13,
     "metadata": {
     },
     "output_type": "execute_result"
    }
   ],
   "source": [
    "pl, p0l, sl, tl, rl, il, jl = alg_Gordon(100)\n",
    "is_prime(pl)"
   ]
  },
  {
   "cell_type": "code",
   "execution_count": 14,
   "metadata": {
    "collapsed": false,
    "jupyter": {
    }
   },
   "outputs": [
    {
     "data": {
      "text/plain": [
       "2^2 * 3^2 * 5 * 7^2 * 13 * 17 * 82657 * 1211597 * 10586426563647491"
      ]
     },
     "execution_count": 14,
     "metadata": {
     },
     "output_type": "execute_result"
    }
   ],
   "source": [
    "rp = factor(pl-1)\n",
    "rp"
   ]
  },
  {
   "cell_type": "code",
   "execution_count": 15,
   "metadata": {
    "collapsed": false,
    "jupyter": {
    }
   },
   "outputs": [
    {
     "data": {
      "text/plain": [
       "2 * 31 * 107 * 66383 * 6859118933 * 684143807436857"
      ]
     },
     "execution_count": 15,
     "metadata": {
     },
     "output_type": "execute_result"
    }
   ],
   "source": [
    "sp=factor(pl+1)\n",
    "sp"
   ]
  },
  {
   "cell_type": "code",
   "execution_count": 16,
   "metadata": {
    "collapsed": false,
    "jupyter": {
    }
   },
   "outputs": [
    {
     "data": {
      "text/plain": [
       "2 * 5 * 1058642656364749"
      ]
     },
     "execution_count": 16,
     "metadata": {
     },
     "output_type": "execute_result"
    }
   ],
   "source": [
    "tp=factor(rp[-1][0]-1)\n",
    "tp"
   ]
  },
  {
   "cell_type": "markdown",
   "metadata": {
    "collapsed": false
   },
   "source": [
    "* Verificar se o primo obtido, é um primo forte.\n",
    "\n",
    "Assumindo que $r \\neq s$\n",
    "\n",
    "Pelo teorema de *Fermat*, temos:\n",
    "\n",
    "$s^{r-1}\\equiv 1 \\mod r$\n",
    "\n",
    "$p_0 \\equiv 1 \\mod r$ e $p_0 \\equiv -1 \\mod s$"
   ]
  },
  {
   "cell_type": "markdown",
   "metadata": {
    "collapsed": false
   },
   "source": [
    "\n",
    "\n",
    "\n",
    "$p = p_0 + 2jrs$"
   ]
  },
  {
   "cell_type": "markdown",
   "metadata": {
    "collapsed": false
   },
   "source": [
    "Verificar:\n",
    "\n",
    "$p-1 = p_0+2jrs-1$\n",
    "\n",
    "E que:\n",
    "\n",
    "$p_0 + 2jrs - 1 \\equiv 0 \\mod r$"
   ]
  },
  {
   "cell_type": "code",
   "execution_count": 17,
   "metadata": {
    "collapsed": false
   },
   "outputs": [
    {
     "data": {
      "text/plain": [
       "True"
      ]
     },
     "execution_count": 17,
     "metadata": {
     },
     "output_type": "execute_result"
    }
   ],
   "source": [
    "p-1 == p0+(2*(j-1)*r*s)-1"
   ]
  },
  {
   "cell_type": "code",
   "execution_count": 18,
   "metadata": {
    "collapsed": false
   },
   "outputs": [
    {
     "data": {
      "text/plain": [
       "True"
      ]
     },
     "execution_count": 18,
     "metadata": {
     },
     "output_type": "execute_result"
    }
   ],
   "source": [
    "mod(p0+(2*(j-1)*r*s)-1,r) == 0"
   ]
  },
  {
   "cell_type": "markdown",
   "metadata": {
    "collapsed": false
   },
   "source": [
    "Verificar:\n",
    "\n",
    "$p+1 = p_0+2jrs+1$\n",
    "\n",
    "E que:\n",
    "\n",
    "$p_0 + 2jrs \\equiv 0 \\mod s$"
   ]
  },
  {
   "cell_type": "code",
   "execution_count": 19,
   "metadata": {
    "collapsed": false
   },
   "outputs": [
    {
     "data": {
      "text/plain": [
       "True"
      ]
     },
     "execution_count": 19,
     "metadata": {
     },
     "output_type": "execute_result"
    }
   ],
   "source": [
    "p+1 == p0 + (2*(j-1)*r*s) +1"
   ]
  },
  {
   "cell_type": "code",
   "execution_count": 20,
   "metadata": {
    "collapsed": false
   },
   "outputs": [
    {
     "data": {
      "text/plain": [
       "True"
      ]
     },
     "execution_count": 20,
     "metadata": {
     },
     "output_type": "execute_result"
    }
   ],
   "source": [
    "mod(p0 + (2*(j-1)*r*s) +1,s) == 0"
   ]
  },
  {
   "cell_type": "markdown",
   "metadata": {
    "collapsed": false
   },
   "source": [
    "Verificar:\n",
    "\n",
    "$r = 2it+1$\n",
    "\n",
    "E que:\n",
    "\n",
    "$2it \\equiv 0 \\mod t$"
   ]
  },
  {
   "cell_type": "code",
   "execution_count": 223,
   "metadata": {
    "collapsed": false
   },
   "outputs": [
    {
     "data": {
      "text/plain": [
       "True"
      ]
     },
     "execution_count": 223,
     "metadata": {
     },
     "output_type": "execute_result"
    }
   ],
   "source": [
    "r-1 == 2 * (i-1) * t"
   ]
  },
  {
   "cell_type": "code",
   "execution_count": 224,
   "metadata": {
    "collapsed": false
   },
   "outputs": [
    {
     "data": {
      "text/plain": [
       "True"
      ]
     },
     "execution_count": 224,
     "metadata": {
     },
     "output_type": "execute_result"
    }
   ],
   "source": [
    "mod(2*(i-1)*t,t) == 0"
   ]
  },
  {
   "cell_type": "code",
   "execution_count": 21,
   "metadata": {
    "collapsed": false,
    "jupyter": {
    }
   },
   "outputs": [
   ],
   "source": [
    "def alg_Gordon(nbits):\n",
    "    nbits=floor(nbits/2)\n",
    "    s = 0\n",
    "    t = 0\n",
    "    while s==t:\n",
    "        s=random_prime(2^nbits,True,2^(nbits-1))\n",
    "        t=random_prime(2^nbits,True,2^(nbits-1))\n",
    "    i=1\n",
    "    r=0\n",
    "    while not is_prime(r):\n",
    "        r=2*i*t+1\n",
    "        i+=1\n",
    "\n",
    "    p0=2*int(pow(s,r-2,r))*s-1\n",
    "    j=1\n",
    "    p=0\n",
    "    while not is_prime(p):\n",
    "        p=p0+2*j*r*s\n",
    "        j+=1\n",
    "\n",
    "    return p, p0, s, t, r, (i-1), (j-1)\n"
   ]
  },
  {
   "cell_type": "code",
   "execution_count": 22,
   "metadata": {
    "collapsed": false
   },
   "outputs": [
   ],
   "source": [
    "def is_strong_prime(n,p0,s,t,r,i,j):\n",
    "    if not (is_prime(n) or r==s):\n",
    "        return False\n",
    "    if not p-1 == p0+(2*j*r*s)-1:\n",
    "        return False\n",
    "    if not mod(p0 + (2*j*r*s)+1,s) == 0:\n",
    "        return False\n",
    "    if not r-1 == 2 * i * t:\n",
    "        return False\n",
    "    if not mod(2*i*t,t) == 0:\n",
    "        return False\n",
    "    return True"
   ]
  },
  {
   "cell_type": "code",
   "execution_count": 29,
   "metadata": {
    "collapsed": false,
    "jupyter": {
    }
   },
   "outputs": [
    {
     "name": "stdout",
     "output_type": "stream",
     "text": [
      "O número primo gerado:\n",
      " 211285556557982953508148637010628038785887480913965675192723438825896512185863442744345477771565784846310190211195586403429945176770389940135568601225517745851 \n",
      "\n",
      "Com um comprimento de:\n",
      " 526 bits\n"
     ]
    }
   ],
   "source": [
    "p,p0,s,t,r,i,j = alg_Gordon(512)\n",
    "\n",
    "print(\"O número primo gerado:\\n\", p , \"\\n\\nCom um comprimento de:\\n\", len(bin(p))-2 ,\"bits\")"
   ]
  },
  {
   "cell_type": "code",
   "execution_count": 30,
   "metadata": {
    "collapsed": false
   },
   "outputs": [
    {
     "data": {
      "text/plain": [
       "True"
      ]
     },
     "execution_count": 30,
     "metadata": {
     },
     "output_type": "execute_result"
    }
   ],
   "source": [
    "is_strong_prime(p,p0,s,t,r,i,j)"
   ]
  },
  {
   "cell_type": "code",
   "execution_count": 0,
   "metadata": {
    "collapsed": false
   },
   "outputs": [
   ],
   "source": [
   ]
  }
 ],
 "metadata": {
  "kernelspec": {
   "display_name": "SageMath 9.2",
   "language": "sagemath",
   "metadata": {
    "cocalc": {
     "description": "Open-source mathematical software system",
     "priority": 10,
     "url": "https://www.sagemath.org/"
    }
   },
   "name": "sage-9.2",
   "resource_dir": "/ext/jupyter/kernels/sage-9.2"
  },
  "language_info": {
   "codemirror_mode": {
    "name": "ipython",
    "version": 3
   },
   "file_extension": ".py",
   "mimetype": "text/x-python",
   "name": "python",
   "nbconvert_exporter": "python",
   "pygments_lexer": "ipython3",
   "version": "3.8.5"
  },
  "name": "TP1_func.ipynb"
 },
 "nbformat": 4,
 "nbformat_minor": 4
}