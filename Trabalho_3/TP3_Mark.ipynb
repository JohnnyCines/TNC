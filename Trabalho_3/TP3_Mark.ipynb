{
 "cells": [
  {
   "cell_type": "markdown",
   "metadata": {
    "collapsed": false
   },
   "source": [
    "# Assinatura Digial RSA e de Chaum\n",
    "\n",
    "\n",
    "### Grupo:\n",
    "\n",
    " - João Marques, a84684\n",
    " - Luis Bigas,   a76964"
   ]
  },
  {
   "cell_type": "markdown",
   "metadata": {
    "collapsed": false
   },
   "source": [
    "## Assinatura Digital RSA"
   ]
  },
  {
   "cell_type": "code",
   "execution_count": 22,
   "metadata": {
    "collapsed": false
   },
   "outputs": [
   ],
   "source": [
    "def genRSAkey(bits):\n",
    "    p = random_prime(2^(bits//2), 2^(bits//2-1), True)\n",
    "    q = random_prime(2^(bits//2-1), 2^(bits//2-2),True)\n",
    "    n = p*q\n",
    "    m = (p-1)*(q-1)\n",
    "    e = randint(2, m-1)\n",
    "    while gcd(e, m) != 1:\n",
    "        e = randint(2,m-1)\n",
    "    d = power_mod(e, -1, m)\n",
    "    PubKey = (n, e)\n",
    "    Chave = (PubKey, d)\n",
    "    return PubKey, d"
   ]
  },
  {
   "cell_type": "code",
   "execution_count": 23,
   "metadata": {
    "collapsed": false
   },
   "outputs": [
   ],
   "source": [
    "PubKey,PrivKey = genRSAkey(1024)\n",
    "n = PubKey[0]\n",
    "e = PubKey[1]"
   ]
  },
  {
   "cell_type": "markdown",
   "metadata": {
    "collapsed": false
   },
   "source": [
    "## Assinatura"
   ]
  },
  {
   "cell_type": "code",
   "execution_count": 33,
   "metadata": {
    "collapsed": false
   },
   "outputs": [
    {
     "data": {
      "text/plain": [
       "36906822241210867014776754913837566155108892467980493944565876131413157803075"
      ]
     },
     "execution_count": 33,
     "metadata": {
     },
     "output_type": "execute_result"
    }
   ],
   "source": [
    "import hashlib\n",
    "mOrig = \"Nobody expects the Spanish Inquisition\"\n",
    "\n",
    "mEncoded = bytes(mOrig, 'utf-8')\n",
    "HH = hashlib.sha256(mEncoded).hexdigest()\n",
    "m=ZZ('0x'+HH)\n",
    "m"
   ]
  },
  {
   "cell_type": "markdown",
   "metadata": {
    "collapsed": false
   },
   "source": [
    "$s = m^d \\mod n$"
   ]
  },
  {
   "cell_type": "code",
   "execution_count": 4,
   "metadata": {
    "collapsed": false
   },
   "outputs": [
    {
     "data": {
      "text/plain": [
       "14678884494655761086981664602112026855426822853929644311143239098432749656096269501249247146495661556907541171525697248482810825128229994998852783976716397945555501893532923321950247234334254979367950002197130941623690482315454455747774111018197569163207320729203966446078431881749942135673266322428768012257"
      ]
     },
     "execution_count": 4,
     "metadata": {
     },
     "output_type": "execute_result"
    }
   ],
   "source": [
    "s = power_mod(m,PrivKey, n)\n",
    "s"
   ]
  },
  {
   "cell_type": "markdown",
   "metadata": {
    "collapsed": false
   },
   "source": [
    "# Verificação"
   ]
  },
  {
   "cell_type": "markdown",
   "metadata": {
    "collapsed": false
   },
   "source": [
    "- PubKey (Chave Publica)\n",
    "- mOrig  (Mensagem Original)\n",
    "- s      (Assinatura da Mensagem)"
   ]
  },
  {
   "cell_type": "code",
   "execution_count": 5,
   "metadata": {
    "collapsed": false
   },
   "outputs": [
    {
     "data": {
      "text/plain": [
       "36906822241210867014776754913837566155108892467980493944565876131413157803075"
      ]
     },
     "execution_count": 5,
     "metadata": {
     },
     "output_type": "execute_result"
    }
   ],
   "source": [
    "import hashlib\n",
    "mEncoded = bytes(mOrig, 'utf-8')\n",
    "HH = hashlib.sha256(mEncoded).hexdigest()\n",
    "ml=ZZ('0x'+HH)\n",
    "ml"
   ]
  },
  {
   "cell_type": "markdown",
   "metadata": {
    "collapsed": false
   },
   "source": [
    "$m = s^e \\mod n$"
   ]
  },
  {
   "cell_type": "code",
   "execution_count": 6,
   "metadata": {
    "collapsed": false
   },
   "outputs": [
    {
     "data": {
      "text/plain": [
       "36906822241210867014776754913837566155108892467980493944565876131413157803075"
      ]
     },
     "execution_count": 6,
     "metadata": {
     },
     "output_type": "execute_result"
    }
   ],
   "source": [
    "m = power_mod(s,e,n)\n",
    "m"
   ]
  },
  {
   "cell_type": "code",
   "execution_count": 7,
   "metadata": {
    "collapsed": false
   },
   "outputs": [
    {
     "data": {
      "text/plain": [
       "True"
      ]
     },
     "execution_count": 7,
     "metadata": {
     },
     "output_type": "execute_result"
    }
   ],
   "source": [
    "ml == m"
   ]
  },
  {
   "cell_type": "code",
   "execution_count": 8,
   "metadata": {
    "collapsed": false
   },
   "outputs": [
   ],
   "source": [
    "def signRSA(PubKey,PrivKey,msg):\n",
    "    mEncoded = bytes(msg, 'utf-8')\n",
    "    HH = hashlib.sha256(mEncoded).hexdigest()\n",
    "    m=ZZ('0x'+HH)\n",
    "    s = power_mod(m,PrivKey, PubKey[0])\n",
    "    return s"
   ]
  },
  {
   "cell_type": "code",
   "execution_count": 9,
   "metadata": {
    "collapsed": false
   },
   "outputs": [
   ],
   "source": [
    "def verifyRSA(PubKey, msgOrig, msgSign):\n",
    "    mEncoded = bytes(mOrig, 'utf-8')\n",
    "    HH = hashlib.sha256(mEncoded).hexdigest()\n",
    "    ml=ZZ('0x'+HH)\n",
    "    m = power_mod(msgSign,PubKey[1],PubKey[0])\n",
    "\n",
    "    return m==ml"
   ]
  },
  {
   "cell_type": "code",
   "execution_count": 10,
   "metadata": {
    "collapsed": false
   },
   "outputs": [
   ],
   "source": [
    "m = \"Nobody expects the Spanish Inquisition\""
   ]
  },
  {
   "cell_type": "code",
   "execution_count": 11,
   "metadata": {
    "collapsed": false
   },
   "outputs": [
    {
     "data": {
      "text/plain": [
       "14678884494655761086981664602112026855426822853929644311143239098432749656096269501249247146495661556907541171525697248482810825128229994998852783976716397945555501893532923321950247234334254979367950002197130941623690482315454455747774111018197569163207320729203966446078431881749942135673266322428768012257"
      ]
     },
     "execution_count": 11,
     "metadata": {
     },
     "output_type": "execute_result"
    }
   ],
   "source": [
    "s = signRSA(PubKey,PrivKey,m)\n",
    "s"
   ]
  },
  {
   "cell_type": "code",
   "execution_count": 12,
   "metadata": {
    "collapsed": false
   },
   "outputs": [
    {
     "data": {
      "text/plain": [
       "True"
      ]
     },
     "execution_count": 12,
     "metadata": {
     },
     "output_type": "execute_result"
    }
   ],
   "source": [
    "verifyRSA(PubKey, m, s)"
   ]
  },
  {
   "cell_type": "markdown",
   "metadata": {
    "collapsed": false
   },
   "source": [
    "# Assinatura cega de Chaum"
   ]
  },
  {
   "cell_type": "markdown",
   "metadata": {
    "collapsed": false
   },
   "source": [
    "## Inicialização"
   ]
  },
  {
   "cell_type": "markdown",
   "metadata": {
    "collapsed": false
   },
   "source": [
    "$0 < k < n,$  $mdc(k,n) = 1$"
   ]
  },
  {
   "cell_type": "code",
   "execution_count": 13,
   "metadata": {
    "collapsed": false
   },
   "outputs": [
   ],
   "source": [
    "def init(PubK):\n",
    "    n,e=PubK\n",
    "    k=randint(1,n-1)\n",
    "    while gcd(k,n)!=1:\n",
    "        k=randint(1,n-1)\n",
    "    return k"
   ]
  },
  {
   "cell_type": "markdown",
   "metadata": {
    "collapsed": false
   },
   "source": [
    "## Blinding\n",
    "$m'\\equiv m(k)^e \\mod n$"
   ]
  },
  {
   "cell_type": "code",
   "execution_count": 14,
   "metadata": {
    "collapsed": false
   },
   "outputs": [
   ],
   "source": [
    "def blind(m,k,PubK):\n",
    "    return (m * power_mod(k,PubK[1],PubK[0])) % PubK[0]"
   ]
  },
  {
   "cell_type": "markdown",
   "metadata": {
    "collapsed": false
   },
   "source": [
    "## Signing\n",
    "$s' \\equiv (m')^{d} \\mod n$"
   ]
  },
  {
   "cell_type": "code",
   "execution_count": 15,
   "metadata": {
    "collapsed": false
   },
   "outputs": [
   ],
   "source": [
    "def sign(blind,PubK,PrivK):\n",
    "    return power_mod(blind,PrivK,PubK[0]) % PubK[0]"
   ]
  },
  {
   "cell_type": "markdown",
   "metadata": {
    "collapsed": false
   },
   "source": [
    "## Unblinding\n",
    "$s \\equiv k^{-1}s' \\mod n$"
   ]
  },
  {
   "cell_type": "code",
   "execution_count": 16,
   "metadata": {
    "collapsed": false
   },
   "outputs": [
   ],
   "source": [
    "def unblind(sign,k,PubK):\n",
    "    return (power_mod(k,-1,PubK[0])*sign) % PubK[0]"
   ]
  },
  {
   "cell_type": "markdown",
   "metadata": {
    "collapsed": false
   },
   "source": [
    "## Verificação"
   ]
  },
  {
   "cell_type": "code",
   "execution_count": 17,
   "metadata": {
    "collapsed": false
   },
   "outputs": [
    {
     "data": {
      "text/plain": [
       "36906822241210867014776754913837566155108892467980493944565876131413157803075"
      ]
     },
     "execution_count": 17,
     "metadata": {
     },
     "output_type": "execute_result"
    }
   ],
   "source": [
    "import hashlib\n",
    "mOrig=\"Nobody expects the Spanish Inquisition\"\n",
    "mEncoded = bytes(mOrig, 'utf-8')\n",
    "HH = hashlib.sha256(mEncoded).hexdigest()\n",
    "m=ZZ('0x'+HH)\n",
    "m"
   ]
  },
  {
   "cell_type": "code",
   "execution_count": 18,
   "metadata": {
    "collapsed": false
   },
   "outputs": [
    {
     "name": "stdout",
     "output_type": "stream",
     "text": [
      "n:  1380095391656916560331467097851016706165149106490383722773015676361632498100848607506862017628920773681068408216442891511062041940304546855054798808735478973998049463085260497056973427674278495240046061114518056325925509618732108009525101018093790444228908488056386641362229187806514056131176469151435569967096614531214354792690884184452605449190884820405780383767181218345815704115813459477857513434451591972220485797087679953940494730085215416627006284578852629343252029733294099846658575094627363958851720780061066272873053304339647481727006246248362173615995518913214685655489072548405250658358305670013806136423 \n",
      "e:  1348842773353276870316409917605532601228472479631273246668343577658151813634600611246827680161936229550756489306082962966606182572381555348938032060858606044850548673536681212045142787803825339704308015435316630215612072752345944175568410351000592963231970503755566605414903874863738732595640895205261283736197868575530068417344310259305847188996141877114062446533143485816399771186625529086264403193014452226569314218908851422391865474998583106209120802451739198184418361112457874722871653842662268558589569615169478373801847061696072262405647610964796749782444329997215658852618873621985001778897816792864100377853 \n",
      "d:  392172851980980489113547403072860920140607304284843949124789674919530400269886362188083314891162120357611623971114860560900796796939352595877308263815135800418442646423022411786992687023179352310989585536149893896581457331395604792490791178358119651522735668651367089051139327611131929992611878172793746978929630450437443965281535305012223413242428005607376347403448230506704003937346524652870508610227530960567991507757933220736125101272633080268622051374590732585550019269453394213115046374791102431943335305485168886354684358098585958244399952462177747665600214605212937480073374460224873129670258975416791050517\n"
     ]
    }
   ],
   "source": [
    "PubK, PrivK=genRSAkey(2048)\n",
    "print(\"n: \", PubK[0], \"\\ne: \", PubK[1], \"\\nd: \", PrivK)"
   ]
  },
  {
   "cell_type": "code",
   "execution_count": 19,
   "metadata": {
    "collapsed": false
   },
   "outputs": [
    {
     "name": "stdout",
     "output_type": "stream",
     "text": [
      "k:  810024230141536697205922351071822651532741828096490646047911650579821005578605262323422440653548160257902902336475778948212965566081753923164060472320933494538108719444840336265454826423641264306261112841661135946663060306813735398905149616963786983768072455151622935456702400074005599147422841591074075544512991761370237147676125605503662130908622723929501713777770224067588147995440860381279426017727323303713939028362095775737018063383383792738349921379268973944811367728809174840391018582379146519554452992424194910279194368337547864530714301893530938339420558786254654695383928349074391739732090203382469295445 \n",
      "\n",
      "m':  1044548107877649078235007887290177398587085283933554365435772088329242914308315488655774253931354393863995949658787509627706766927110421809652222904940869268141599644788009539664418213885662489207671422524612829138761099001516108493386715776914943955365714166769665452296956107034994741867787837932107467843666499497833270383862825663902208427746620804490362661109723712438331972178338390073432394769819427131098548825491831564284734609719582873747237890936471892354076544410834753525330554559469100096315366790981614273252605013683870302069464889637968493308679385314364334399969081332154643146653066507788670710687 \n",
      "\n",
      "s':  740799000297802856053286161378174445014534392504163365354190411524295408301370756411952949099559377470891171972392952033299864687716907542905108886353735570687708681180529816409390459450216388052856091247094477932833570296911719041536924135224502190789332523938447189447696411921920887960774834823702494340125405224080763683106623294469961645325375395532424751324841320268830414457369717955620066275695130989362271962636806687560752167210898094408462537473191700919504304505306053984440457854193963054079215143014190871881655932454870972382042081672748883180716970604846292193163800093602518377743661973669442962440 \n",
      "\n",
      "s :  472156566326896066521503888546338236501775653756429233865393327335933142252038656379128809014668807071450775522714419804767134365880881844075663228581745927293999351340994954421980711915346453978816254178021847861672651974233186318244744653520721873709954876424388251612888015246312385883305063691103787695132950897479601219204169165964932998438402256320557409809791256435653531814125450189912296618016753886113576011621240470087249650571301218511386661437033175539519865607351201138641505987301567028020088485037312487298353423268910908688560677761950541213879477643987663858757788025455726641257245076978003143096 \n",
      "\n"
     ]
    }
   ],
   "source": [
    "k = init(PubK)\n",
    "blinded = blind(m,k, PubK)\n",
    "signed = sign(blinded, PubK, PrivK)\n",
    "unblinded = unblind(signed, k, PubK)\n",
    "print(\"k: \", k, \"\\n\")\n",
    "print(\"m': \", blinded, \"\\n\")\n",
    "print(\"s': \", signed, \"\\n\")\n",
    "print(\"s : \", unblinded, \"\\n\")"
   ]
  },
  {
   "cell_type": "code",
   "execution_count": 20,
   "metadata": {
    "collapsed": false
   },
   "outputs": [
    {
     "data": {
      "text/plain": [
       "True"
      ]
     },
     "execution_count": 20,
     "metadata": {
     },
     "output_type": "execute_result"
    }
   ],
   "source": [
    "unblinded == power_mod(m,PrivK,PubK[0])"
   ]
  },
  {
   "cell_type": "code",
   "execution_count": 0,
   "metadata": {
    "collapsed": false
   },
   "outputs": [
   ],
   "source": [
   ]
  }
 ],
 "metadata": {
  "kernelspec": {
   "display_name": "SageMath 9.2",
   "language": "sagemath",
   "metadata": {
    "cocalc": {
     "description": "Open-source mathematical software system",
     "priority": 10,
     "url": "https://www.sagemath.org/"
    }
   },
   "name": "sage-9.2",
   "resource_dir": "/ext/jupyter/kernels/sage-9.2"
  },
  "language_info": {
   "codemirror_mode": {
    "name": "ipython",
    "version": 3
   },
   "file_extension": ".py",
   "mimetype": "text/x-python",
   "name": "python",
   "nbconvert_exporter": "python",
   "pygments_lexer": "ipython3",
   "version": "3.8.5"
  }
 },
 "nbformat": 4,
 "nbformat_minor": 4
}