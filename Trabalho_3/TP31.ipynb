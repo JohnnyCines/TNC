{
 "cells": [
  {
   "cell_type": "markdown",
   "metadata": {
    "collapsed": false
   },
   "source": [
    "# Assinatura Digial RSA e de Chaum\n",
    "\n",
    "\n",
    "### Grupo:\n",
    "\n",
    " - João Marques, a84684\n",
    " - Luis Bigas,   a76964"
   ]
  },
  {
   "cell_type": "markdown",
   "metadata": {
    "collapsed": false
   },
   "source": [
    "## Assinatura Digital RSA"
   ]
  },
  {
   "cell_type": "code",
   "execution_count": 1,
   "metadata": {
    "collapsed": false
   },
   "outputs": [
   ],
   "source": [
    "def genRSAkey(bits):\n",
    "    p = random_prime(2^(bits//2), 2^(bits//2-1), True)\n",
    "    q = random_prime(2^(bits//2-1), 2^(bits//2-2),True)\n",
    "    n = p*q\n",
    "    m = (p-1)*(q-1)\n",
    "    e = randint(2, m-1)\n",
    "    while gcd(e, m) != 1:\n",
    "        e = randint(2,m-1)\n",
    "    d = power_mod(e, -1, m)\n",
    "    PubKey = (n, e)\n",
    "    Chave = (PubKey, d)\n",
    "    return PubKey, d"
   ]
  },
  {
   "cell_type": "code",
   "execution_count": 2,
   "metadata": {
    "collapsed": false
   },
   "outputs": [
   ],
   "source": [
    "PubKey,PrivKey = genRSAkey(1024)\n",
    "n = PubKey[0]\n",
    "e = PubKey[1]"
   ]
  },
  {
   "cell_type": "markdown",
   "metadata": {
    "collapsed": false
   },
   "source": [
    "## Assinatura"
   ]
  },
  {
   "cell_type": "code",
   "execution_count": 3,
   "metadata": {
    "collapsed": false
   },
   "outputs": [
    {
     "data": {
      "text/plain": [
       "36906822241210867014776754913837566155108892467980493944565876131413157803075"
      ]
     },
     "execution_count": 3,
     "metadata": {
     },
     "output_type": "execute_result"
    }
   ],
   "source": [
    "import hashlib\n",
    "mOrig = \"Nobody expects the Spanish Inquisition\"\n",
    "\n",
    "mEncoded = bytes(mOrig, 'utf-8')\n",
    "HH = hashlib.sha256(mEncoded).hexdigest()\n",
    "m=ZZ('0x'+HH)\n",
    "m"
   ]
  },
  {
   "cell_type": "markdown",
   "metadata": {
    "collapsed": false
   },
   "source": [
    "$s = m^d \\mod n$"
   ]
  },
  {
   "cell_type": "code",
   "execution_count": 4,
   "metadata": {
    "collapsed": false
   },
   "outputs": [
    {
     "data": {
      "text/plain": [
       "5318791555574514557375030941967875901342364429350909789540212099674511114554741801733410198165191658124171158479605477916200756158496047371752744622919741972329098592335922598281664588611962339934985962833200881614613639496048012564889341171789163082833799089172337609699785971498263538330666791462626114132"
      ]
     },
     "execution_count": 4,
     "metadata": {
     },
     "output_type": "execute_result"
    }
   ],
   "source": [
    "s = power_mod(m,PrivKey, n)\n",
    "s"
   ]
  },
  {
   "cell_type": "markdown",
   "metadata": {
    "collapsed": false
   },
   "source": [
    "# Verificação"
   ]
  },
  {
   "cell_type": "markdown",
   "metadata": {
    "collapsed": false
   },
   "source": [
    "- PubKey (Chave Publica)\n",
    "- mOrig  (Mensagem Original)\n",
    "- s      (Assinatura da Mensagem)"
   ]
  },
  {
   "cell_type": "code",
   "execution_count": 5,
   "metadata": {
    "collapsed": false
   },
   "outputs": [
    {
     "data": {
      "text/plain": [
       "36906822241210867014776754913837566155108892467980493944565876131413157803075"
      ]
     },
     "execution_count": 5,
     "metadata": {
     },
     "output_type": "execute_result"
    }
   ],
   "source": [
    "import hashlib\n",
    "mEncoded = bytes(mOrig, 'utf-8')\n",
    "HH = hashlib.sha256(mEncoded).hexdigest()\n",
    "ml=ZZ('0x'+HH)\n",
    "ml"
   ]
  },
  {
   "cell_type": "markdown",
   "metadata": {
    "collapsed": false
   },
   "source": [
    "$m = s^e \\mod n$"
   ]
  },
  {
   "cell_type": "code",
   "execution_count": 6,
   "metadata": {
    "collapsed": false
   },
   "outputs": [
    {
     "data": {
      "text/plain": [
       "36906822241210867014776754913837566155108892467980493944565876131413157803075"
      ]
     },
     "execution_count": 6,
     "metadata": {
     },
     "output_type": "execute_result"
    }
   ],
   "source": [
    "m = power_mod(s,e,n)\n",
    "m"
   ]
  },
  {
   "cell_type": "code",
   "execution_count": 7,
   "metadata": {
    "collapsed": false
   },
   "outputs": [
    {
     "data": {
      "text/plain": [
       "True"
      ]
     },
     "execution_count": 7,
     "metadata": {
     },
     "output_type": "execute_result"
    }
   ],
   "source": [
    "ml == m"
   ]
  },
  {
   "cell_type": "code",
   "execution_count": 0,
   "metadata": {
    "collapsed": false
   },
   "outputs": [
   ],
   "source": [
   ]
  },
  {
   "cell_type": "code",
   "execution_count": 8,
   "metadata": {
    "collapsed": false
   },
   "outputs": [
   ],
   "source": [
    "def signRSA(PubKey,PrivKey,msg):\n",
    "    mEncoded = bytes(msg, 'utf-8')\n",
    "    HH = hashlib.sha256(mEncoded).hexdigest()\n",
    "    m=ZZ('0x'+HH)\n",
    "    s = power_mod(m,PrivKey, PubKey[0])\n",
    "    return s"
   ]
  },
  {
   "cell_type": "code",
   "execution_count": 9,
   "metadata": {
    "collapsed": false
   },
   "outputs": [
   ],
   "source": [
    "def verifyRSA(PubKey, msgOrig, msgSign):\n",
    "    mEncoded = bytes(mOrig, 'utf-8')\n",
    "    HH = hashlib.sha256(mEncoded).hexdigest()\n",
    "    ml=ZZ('0x'+HH)\n",
    "    m = power_mod(msgSign,PubKey[1],PubKey[0])\n",
    "\n",
    "    return m==ml"
   ]
  },
  {
   "cell_type": "code",
   "execution_count": 10,
   "metadata": {
    "collapsed": false
   },
   "outputs": [
   ],
   "source": [
    "m = \"Nobody expects the Spanish Inquisition\""
   ]
  },
  {
   "cell_type": "code",
   "execution_count": 11,
   "metadata": {
    "collapsed": false
   },
   "outputs": [
    {
     "data": {
      "text/plain": [
       "5318791555574514557375030941967875901342364429350909789540212099674511114554741801733410198165191658124171158479605477916200756158496047371752744622919741972329098592335922598281664588611962339934985962833200881614613639496048012564889341171789163082833799089172337609699785971498263538330666791462626114132"
      ]
     },
     "execution_count": 11,
     "metadata": {
     },
     "output_type": "execute_result"
    }
   ],
   "source": [
    "s = signRSA(PubKey,PrivKey,m)\n",
    "s"
   ]
  },
  {
   "cell_type": "code",
   "execution_count": 12,
   "metadata": {
    "collapsed": false
   },
   "outputs": [
    {
     "data": {
      "text/plain": [
       "True"
      ]
     },
     "execution_count": 12,
     "metadata": {
     },
     "output_type": "execute_result"
    }
   ],
   "source": [
    "verifyRSA(PubKey, m, s)"
   ]
  },
  {
   "cell_type": "markdown",
   "metadata": {
    "collapsed": false
   },
   "source": [
    "# Assinatura cega de Chaum"
   ]
  },
  {
   "cell_type": "code",
   "execution_count": 20,
   "metadata": {
    "collapsed": false
   },
   "outputs": [
   ],
   "source": [
    "PubK, PrivK=genRSAkey(2048)\n",
    "m=1234"
   ]
  },
  {
   "cell_type": "markdown",
   "metadata": {
    "collapsed": false
   },
   "source": [
    "$m' \\equiv mr^e \\mod n$"
   ]
  },
  {
   "cell_type": "code",
   "execution_count": 21,
   "metadata": {
    "collapsed": false
   },
   "outputs": [
    {
     "name": "stdout",
     "output_type": "stream",
     "text": [
      "m:  1234\n",
      "e:  992717950678421449644025572238987440302885385139560399771836611369887147919033714610803920327625150071406778781250606863147828935638490477194137540756934763998582149971993419356070588641594803804426904661466566231010411817572847615509477634533492785029566531938602998432141981409436174766764577706873547611743557578213386460803544625229610035650593236928672210433216694648596546564234125604415625671280359502684837700272608574652641458620536125695012760587368435718601067492424118832675893126165577561083992544741979904941662551049794552757867054575388282714973102356298403585168471662286162809143805662898335055997\n",
      "n:  1251299074393624998303767352966597106934910970881594082482879864507344341648568838480752766718662430500143567830150847389474450508720499096813663250597633565805307845616789038224664312907409645596394590664142620587547245550663512776498547494059916612465306307927406529440362065999209616780617613945824590340772717847249933517645228770826690295781717422894493956079948995564946093522626903464236977916159611898685637946434830115525393865698339737506909664585871328137145028356149191418329773697712476692858722948678593077781052649123331018418354829812030880620129891539199047607431034578348225893146283876980126307187\n",
      "k:  1196419998285945563667697546112914272240447606675414353490965422835013774286738367301723197745711265134877763219837371981371176068711406407161735702658390654419569176326373845191783563848520922878114702589095425811003427808687330601000817163969515628716424427385091365567359528043547409197627238849364203057497452159831798542513697839376268789655638329448642080419270939241366736158214082085870097030184556706572606557361489776199870663148407426278823243628593580694280297422110547304691709726627864946002593428526472517555055798062156686727666940387906801879317309512538896168396810469234127766330675363480962852115\n",
      "PrivK:  457625402822775172558502495342769074841561856278775338291291678244697452768349722406068646016451698582849627314212538786561349618322875693882899743848994608505543509318818457110063150338012121653989715720086010465872034433834055454523679722906379088848499664172258222839905446095290589679612657735597291652088117075299083042141491844182763518260022693458597296656428605631205145165021436699550539304093697014213513186872563845567206364896600043624443253316747146604868849502534074814196646889576052228273116849454465705965496200394306168980283891133910564488217005233072836306928223965282152265128047519221116601565\n"
     ]
    }
   ],
   "source": [
    "n,e=PubK\n",
    "k=randint(1,n-1)\n",
    "while gcd(k,n)!=1:\n",
    "    k=randint(1,n-1)\n",
    "print(\"m: \",m)\n",
    "print(\"e: \",e)\n",
    "print(\"n: \",n)\n",
    "print(\"k: \",k)\n",
    "print(\"PrivK: \",PrivK)"
   ]
  },
  {
   "cell_type": "code",
   "execution_count": 22,
   "metadata": {
    "collapsed": false
   },
   "outputs": [
   ],
   "source": [
    "blind = (m * power_mod(k,e,n)) % n"
   ]
  },
  {
   "cell_type": "markdown",
   "metadata": {
    "collapsed": false
   },
   "source": [
    "$s' \\equiv (m')^d \\mod n$"
   ]
  },
  {
   "cell_type": "code",
   "execution_count": 23,
   "metadata": {
    "collapsed": false
   },
   "outputs": [
   ],
   "source": [
    "sign = (power_mod(blind,PrivK,n)) % n"
   ]
  },
  {
   "cell_type": "markdown",
   "metadata": {
    "collapsed": false
   },
   "source": [
    "$s \\equiv s'r^-1 \\mod n$"
   ]
  },
  {
   "cell_type": "code",
   "execution_count": 24,
   "metadata": {
    "collapsed": false
   },
   "outputs": [
   ],
   "source": [
    "s = (power_mod(k,-1,n)*sign) % n"
   ]
  },
  {
   "cell_type": "code",
   "execution_count": 25,
   "metadata": {
    "collapsed": false
   },
   "outputs": [
    {
     "name": "stdout",
     "output_type": "stream",
     "text": [
      "blind:  460981573394975985129448195039586209218843771501915701536009290085930981056260607335388044708874892081628182210026344527138235212783178221236799974819559014724183342662617379285449002579208678372091424460146796115688103255782861587698438397337534647167547168469914679097502730699302210421592460029589434972477064641305862785791671269690093095571053880351995375379572560495216218263669407526496185173824590906564770205259398603996631569703019509124308048694731500068069813919413804658250777037014455428282475805506713701083219344911600518975611753790734098842994682855372640036627980182849010889144710712910771864524\n",
      "sign:  11252863741214558428844682149759346756394572722708430502712556507301425056915893967865376151989443644982219785429480705912273579808634444235883428539537333253293052555832665745676671346862939501904226820538883953028478258538740043768063437045058637840474976674361835457557867132317171858152851670867136737438480624869850575598561881162046411403944840878283563573568345878064412114604268582320291072222257841018278010785982563351448132860096941217075496239831135573334096853273985899785287452071142260221255987013386457877958963612518858706334441130774620300469205910382190129451786208783821548183409077585455363584\n",
      "Assinatura cega:  873004020159676394061599287943873948185201409468020768367954939688000606661881867209484537895875676132877348240283114480259179318964614030134764635315486162490920115152060772716598371794927575224524373494765666601348049622206134790618958796017967930783493191489922399891886202629622137242912799026143520576756469378881344560832250879787081651713280855510372235981209921472974345225167532985999780736817093568623937049301291210299477112505238930538256184165960532584573211818220495895756873302387636620581458590567885794263763564406835815074257006872573961860770469564837876728541646205379349715973130323584675760178\n"
     ]
    }
   ],
   "source": [
    "print(\"blind: \",blind)\n",
    "print(\"sign: \", sign)\n",
    "print(\"Assinatura cega: \", s)"
   ]
  },
  {
   "cell_type": "code",
   "execution_count": 27,
   "metadata": {
    "collapsed": false
   },
   "outputs": [
    {
     "data": {
      "text/plain": [
       "True"
      ]
     },
     "execution_count": 27,
     "metadata": {
     },
     "output_type": "execute_result"
    }
   ],
   "source": [
    "s==power_mod(m,PrivK,n)"
   ]
  },
  {
   "cell_type": "code",
   "execution_count": 28,
   "metadata": {
    "collapsed": false
   },
   "outputs": [
    {
     "data": {
      "text/plain": [
       "873004020159676394061599287943873948185201409468020768367954939688000606661881867209484537895875676132877348240283114480259179318964614030134764635315486162490920115152060772716598371794927575224524373494765666601348049622206134790618958796017967930783493191489922399891886202629622137242912799026143520576756469378881344560832250879787081651713280855510372235981209921472974345225167532985999780736817093568623937049301291210299477112505238930538256184165960532584573211818220495895756873302387636620581458590567885794263763564406835815074257006872573961860770469564837876728541646205379349715973130323584675760178"
      ]
     },
     "execution_count": 28,
     "metadata": {
     },
     "output_type": "execute_result"
    }
   ],
   "source": [
    "power_mod(m,PrivK, n)"
   ]
  },
  {
   "cell_type": "code",
   "execution_count": 30,
   "metadata": {
    "collapsed": false
   },
   "outputs": [
    {
     "data": {
      "text/plain": [
       "1251299074393624998303767352966597106934910970881594082482879864507344341648568838480752766718662430500143567830150847389474450508720499096813663250597633565805307845616789038224664312907409645596394590664142620587547245550663512776498547494059916612465306307927406529440362065999209616780617613945824590340772717847249933517645228770826690295781717422894493956079948995564946093522626903464236977916159611898685637946434830115525393865698339737506909664585871328137145028356149191418329773697712476692858722948678593077781052649123331018418354829812030880620129891539199047607431034578348225893146283876980126307187"
      ]
     },
     "execution_count": 30,
     "metadata": {
     },
     "output_type": "execute_result"
    }
   ],
   "source": [
    "n"
   ]
  },
  {
   "cell_type": "code",
   "execution_count": 0,
   "metadata": {
    "collapsed": false
   },
   "outputs": [
   ],
   "source": [
   ]
  },
  {
   "cell_type": "code",
   "execution_count": 0,
   "metadata": {
    "collapsed": false
   },
   "outputs": [
   ],
   "source": [
   ]
  }
 ],
 "metadata": {
  "kernelspec": {
   "display_name": "SageMath 9.2",
   "language": "sagemath",
   "metadata": {
    "cocalc": {
     "description": "Open-source mathematical software system",
     "priority": 10,
     "url": "https://www.sagemath.org/"
    }
   },
   "name": "sage-9.2",
   "resource_dir": "/ext/jupyter/kernels/sage-9.2"
  },
  "language_info": {
   "codemirror_mode": {
    "name": "ipython",
    "version": 3
   },
   "file_extension": ".py",
   "mimetype": "text/x-python",
   "name": "python",
   "nbconvert_exporter": "python",
   "pygments_lexer": "ipython3",
   "version": "3.8.5"
  }
 },
 "nbformat": 4,
 "nbformat_minor": 4
}